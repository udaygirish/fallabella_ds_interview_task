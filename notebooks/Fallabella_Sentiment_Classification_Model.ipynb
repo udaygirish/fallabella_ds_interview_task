{
  "cells": [
    {
      "cell_type": "code",
      "execution_count": null,
      "metadata": {
        "colab": {
          "base_uri": "https://localhost:8080/"
        },
        "id": "Xzc75CID8Q3q",
        "outputId": "9b7d7d9f-847d-40fd-cfa4-c1dc35c61769"
      },
      "outputs": [
        {
          "output_type": "stream",
          "name": "stdout",
          "text": [
            "Drive already mounted at /content/drive; to attempt to forcibly remount, call drive.mount(\"/content/drive\", force_remount=True).\n"
          ]
        }
      ],
      "source": [
        "# Mount Google Drive - \n",
        "\n",
        "from google.colab import drive\n",
        "\n",
        "drive.mount(\"/content/drive\")\n"
      ]
    },
    {
      "cell_type": "code",
      "execution_count": null,
      "metadata": {
        "id": "8tIwPtcJ-hGH"
      },
      "outputs": [],
      "source": [
        "import os\n",
        "os.chdir(\"/content/drive/MyDrive/Fallabella_interview\")"
      ]
    },
    {
      "cell_type": "code",
      "execution_count": null,
      "metadata": {
        "id": "ycy1H5BdAX9I"
      },
      "outputs": [],
      "source": [
        "# Use unzip to extract data\n",
        "#!unzip  train_test_reviews.zip"
      ]
    },
    {
      "cell_type": "code",
      "execution_count": null,
      "metadata": {
        "colab": {
          "base_uri": "https://localhost:8080/",
          "height": 544
        },
        "id": "2dl-R1zS_zby",
        "outputId": "a3567600-2d36-4a69-c615-1f5b39161976"
      },
      "outputs": [
        {
          "output_type": "stream",
          "name": "stdout",
          "text": [
            "Requirement already satisfied: wandb in /usr/local/lib/python3.7/dist-packages (0.12.9)\n",
            "Requirement already satisfied: yaspin>=1.0.0 in /usr/local/lib/python3.7/dist-packages (from wandb) (2.1.0)\n",
            "Requirement already satisfied: docker-pycreds>=0.4.0 in /usr/local/lib/python3.7/dist-packages (from wandb) (0.4.0)\n",
            "Requirement already satisfied: promise<3,>=2.0 in /usr/local/lib/python3.7/dist-packages (from wandb) (2.3)\n",
            "Requirement already satisfied: pathtools in /usr/local/lib/python3.7/dist-packages (from wandb) (0.1.2)\n",
            "Requirement already satisfied: python-dateutil>=2.6.1 in /usr/local/lib/python3.7/dist-packages (from wandb) (2.8.2)\n",
            "Requirement already satisfied: sentry-sdk>=1.0.0 in /usr/local/lib/python3.7/dist-packages (from wandb) (1.5.1)\n",
            "Requirement already satisfied: PyYAML in /usr/local/lib/python3.7/dist-packages (from wandb) (3.13)\n",
            "Requirement already satisfied: subprocess32>=3.5.3 in /usr/local/lib/python3.7/dist-packages (from wandb) (3.5.4)\n",
            "Requirement already satisfied: protobuf>=3.12.0 in /usr/local/lib/python3.7/dist-packages (from wandb) (3.17.3)\n",
            "Requirement already satisfied: requests<3,>=2.0.0 in /usr/local/lib/python3.7/dist-packages (from wandb) (2.23.0)\n",
            "Requirement already satisfied: Click!=8.0.0,>=7.0 in /usr/local/lib/python3.7/dist-packages (from wandb) (7.1.2)\n",
            "Requirement already satisfied: GitPython>=1.0.0 in /usr/local/lib/python3.7/dist-packages (from wandb) (3.1.24)\n",
            "Requirement already satisfied: shortuuid>=0.5.0 in /usr/local/lib/python3.7/dist-packages (from wandb) (1.0.8)\n",
            "Requirement already satisfied: six>=1.13.0 in /usr/local/lib/python3.7/dist-packages (from wandb) (1.15.0)\n",
            "Requirement already satisfied: psutil>=5.0.0 in /usr/local/lib/python3.7/dist-packages (from wandb) (5.4.8)\n",
            "Requirement already satisfied: configparser>=3.8.1 in /usr/local/lib/python3.7/dist-packages (from wandb) (5.2.0)\n",
            "Requirement already satisfied: typing-extensions>=3.7.4.3 in /usr/local/lib/python3.7/dist-packages (from GitPython>=1.0.0->wandb) (3.10.0.2)\n",
            "Requirement already satisfied: gitdb<5,>=4.0.1 in /usr/local/lib/python3.7/dist-packages (from GitPython>=1.0.0->wandb) (4.0.9)\n",
            "Requirement already satisfied: smmap<6,>=3.0.1 in /usr/local/lib/python3.7/dist-packages (from gitdb<5,>=4.0.1->GitPython>=1.0.0->wandb) (5.0.0)\n",
            "Requirement already satisfied: chardet<4,>=3.0.2 in /usr/local/lib/python3.7/dist-packages (from requests<3,>=2.0.0->wandb) (3.0.4)\n",
            "Requirement already satisfied: certifi>=2017.4.17 in /usr/local/lib/python3.7/dist-packages (from requests<3,>=2.0.0->wandb) (2021.10.8)\n",
            "Requirement already satisfied: urllib3!=1.25.0,!=1.25.1,<1.26,>=1.21.1 in /usr/local/lib/python3.7/dist-packages (from requests<3,>=2.0.0->wandb) (1.24.3)\n",
            "Requirement already satisfied: idna<3,>=2.5 in /usr/local/lib/python3.7/dist-packages (from requests<3,>=2.0.0->wandb) (2.10)\n",
            "Requirement already satisfied: termcolor<2.0.0,>=1.1.0 in /usr/local/lib/python3.7/dist-packages (from yaspin>=1.0.0->wandb) (1.1.0)\n",
            "\u001b[34m\u001b[1mwandb\u001b[0m: Appending key for api.wandb.ai to your netrc file: /root/.netrc\n"
          ]
        },
        {
          "output_type": "stream",
          "name": "stderr",
          "text": [
            "\u001b[34m\u001b[1mwandb\u001b[0m: Currently logged in as: \u001b[33mudaygirish\u001b[0m (use `wandb login --relogin` to force relogin)\n"
          ]
        },
        {
          "output_type": "display_data",
          "data": {
            "text/html": [
              "\n",
              "                    Syncing run <strong><a href=\"https://wandb.ai/udaygirish/fallabella_sentiment_classification/runs/mbzsvisn\" target=\"_blank\">upbeat-pine-13</a></strong> to <a href=\"https://wandb.ai/udaygirish/fallabella_sentiment_classification\" target=\"_blank\">Weights & Biases</a> (<a href=\"https://docs.wandb.com/integrations/jupyter.html\" target=\"_blank\">docs</a>).<br/>\n",
              "\n",
              "                "
            ],
            "text/plain": [
              "<IPython.core.display.HTML object>"
            ]
          },
          "metadata": {}
        },
        {
          "output_type": "execute_result",
          "data": {
            "text/plain": [
              "<wandb.sdk.wandb_run.Run at 0x7fed74544850>"
            ],
            "text/html": [
              "<button onClick=\"this.nextSibling.style.display='block';this.style.display='none';\">Display W&B run</button><iframe src=\"https://wandb.ai/udaygirish/fallabella_sentiment_classification/runs/mbzsvisn?jupyter=true\" style=\"border:none;width:100%;height:420px;display:none;\"></iframe>"
            ]
          },
          "metadata": {},
          "execution_count": 4
        }
      ],
      "source": [
        "# Install wandb\n",
        "!pip install --upgrade wandb\n",
        "!wandb login 27a7da33c576ce666efe01b380e6d9b2f8a63119\n",
        "import wandb\n",
        "from wandb.keras import WandbCallback\n",
        "wandb.init(project=\"fallabella_sentiment_classification\")"
      ]
    },
    {
      "cell_type": "code",
      "execution_count": null,
      "metadata": {
        "colab": {
          "base_uri": "https://localhost:8080/"
        },
        "id": "DNIMe3qh_Lm_",
        "outputId": "76e93e7a-308b-4ebc-b77e-0c9622522f39"
      },
      "outputs": [
        {
          "output_type": "stream",
          "name": "stdout",
          "text": [
            "[nltk_data] Downloading package stopwords to /root/nltk_data...\n",
            "[nltk_data]   Package stopwords is already up-to-date!\n"
          ]
        }
      ],
      "source": [
        "import tensorflow as tf\n",
        "import numpy as np\n",
        "import pandas as pd\n",
        "from keras.models import Sequential\n",
        "from keras.layers import Dense,Embedding,Conv1D,MaxPooling1D,LSTM,Bidirectional\n",
        "from keras.layers import Dropout,Flatten,BatchNormalization,LeakyReLU\n",
        "from keras.layers import LSTM\n",
        "from keras.layers import RNN\n",
        "from keras.callbacks import ModelCheckpoint\n",
        "from keras.utils import np_utils\n",
        "from keras import *\n",
        "import keras\n",
        "from keras.preprocessing import sequence\n",
        "import seaborn as sns\n",
        "import matplotlib.pyplot as plt\n",
        "import pandas as pd\n",
        "import numpy as np\n",
        "import re\n",
        "import nltk\n",
        "nltk.download('stopwords')\n",
        "import matplotlib.pyplot as plt\n",
        "from nltk.corpus import stopwords\n",
        "from keras.preprocessing.text import one_hot\n",
        "from keras.preprocessing.sequence import pad_sequences\n",
        "from keras.layers.core import Activation, Dropout, Dense\n",
        "from keras.layers import GlobalMaxPooling1D,MaxPool1D\n",
        "from keras.layers.embeddings import Embedding\n",
        "from sklearn.model_selection import train_test_split\n",
        "from keras.preprocessing.text import Tokenizer\n",
        "from sklearn.feature_extraction.text import TfidfVectorizer\n",
        "from sklearn.metrics import accuracy_score"
      ]
    },
    {
      "cell_type": "code",
      "execution_count": null,
      "metadata": {
        "id": "mQsRXjbyAFHR"
      },
      "outputs": [],
      "source": [
        "from keras import backend as K\n",
        "\n",
        "def recall_m(y_true, y_pred):\n",
        "  true_positives = K.sum(K.round(K.clip(y_true * y_pred, 0, 1)))\n",
        "  possible_positives = K.sum(K.round(K.clip(y_true, 0, 1)))\n",
        "  recall = true_positives / (possible_positives + K.epsilon())\n",
        "  return recall\n",
        "\n",
        "def precision_m(y_true, y_pred):\n",
        "  true_positives = K.sum(K.round(K.clip(y_true * y_pred, 0, 1)))\n",
        "  predicted_positives = K.sum(K.round(K.clip(y_pred, 0, 1)))\n",
        "  precision = true_positives / (predicted_positives + K.epsilon())\n",
        "  return precision\n",
        "\n",
        "def f1_m(y_true, y_pred):\n",
        "  precision = precision_m(y_true, y_pred)\n",
        "  recall = recall_m(y_true, y_pred)\n",
        "  return 2*((precision*recall)/(precision+recall+K.epsilon()))"
      ]
    },
    {
      "cell_type": "code",
      "execution_count": null,
      "metadata": {
        "id": "r6xPFHrXAQ92"
      },
      "outputs": [],
      "source": [
        "df_train_path = \"reviews_training_26000.csv\"\n",
        "df_test_path = \"reviews_test_4000.csv\""
      ]
    },
    {
      "cell_type": "code",
      "execution_count": null,
      "metadata": {
        "id": "FhHVYSgSA4gT"
      },
      "outputs": [],
      "source": [
        "df_train = pd.read_csv(df_train_path)\n",
        "df_test = pd.read_csv(df_test_path)"
      ]
    },
    {
      "cell_type": "code",
      "execution_count": null,
      "metadata": {
        "colab": {
          "base_uri": "https://localhost:8080/",
          "height": 677
        },
        "id": "XlVkORKkBBgS",
        "outputId": "d541634a-fb3a-427a-cceb-d750fa16cef2"
      },
      "outputs": [
        {
          "output_type": "execute_result",
          "data": {
            "text/html": [
              "\n",
              "  <div id=\"df-dbb8e457-3545-46f5-a0ef-7d1b32afd8c1\">\n",
              "    <div class=\"colab-df-container\">\n",
              "      <div>\n",
              "<style scoped>\n",
              "    .dataframe tbody tr th:only-of-type {\n",
              "        vertical-align: middle;\n",
              "    }\n",
              "\n",
              "    .dataframe tbody tr th {\n",
              "        vertical-align: top;\n",
              "    }\n",
              "\n",
              "    .dataframe thead th {\n",
              "        text-align: right;\n",
              "    }\n",
              "</style>\n",
              "<table border=\"1\" class=\"dataframe\">\n",
              "  <thead>\n",
              "    <tr style=\"text-align: right;\">\n",
              "      <th></th>\n",
              "      <th>review_id</th>\n",
              "      <th>review</th>\n",
              "      <th>sentiment</th>\n",
              "    </tr>\n",
              "  </thead>\n",
              "  <tbody>\n",
              "    <tr>\n",
              "      <th>0</th>\n",
              "      <td>2</td>\n",
              "      <td>I thought this was a wonderful way to spend ti...</td>\n",
              "      <td>positive</td>\n",
              "    </tr>\n",
              "    <tr>\n",
              "      <th>1</th>\n",
              "      <td>3</td>\n",
              "      <td>Basically there's a family where a little boy ...</td>\n",
              "      <td>negative</td>\n",
              "    </tr>\n",
              "    <tr>\n",
              "      <th>2</th>\n",
              "      <td>7</td>\n",
              "      <td>This show was an amazing, fresh &amp; innovative i...</td>\n",
              "      <td>negative</td>\n",
              "    </tr>\n",
              "    <tr>\n",
              "      <th>3</th>\n",
              "      <td>8</td>\n",
              "      <td>Encouraged by the positive comments about this...</td>\n",
              "      <td>negative</td>\n",
              "    </tr>\n",
              "    <tr>\n",
              "      <th>4</th>\n",
              "      <td>10</td>\n",
              "      <td>Phil the Alien is one of those quirky films wh...</td>\n",
              "      <td>negative</td>\n",
              "    </tr>\n",
              "    <tr>\n",
              "      <th>5</th>\n",
              "      <td>11</td>\n",
              "      <td>I saw this movie when I was about 12 when it c...</td>\n",
              "      <td>negative</td>\n",
              "    </tr>\n",
              "    <tr>\n",
              "      <th>6</th>\n",
              "      <td>12</td>\n",
              "      <td>So im not a big fan of Boll's work but then ag...</td>\n",
              "      <td>negative</td>\n",
              "    </tr>\n",
              "    <tr>\n",
              "      <th>7</th>\n",
              "      <td>13</td>\n",
              "      <td>The cast played Shakespeare.&lt;br /&gt;&lt;br /&gt;Shakes...</td>\n",
              "      <td>negative</td>\n",
              "    </tr>\n",
              "    <tr>\n",
              "      <th>8</th>\n",
              "      <td>15</td>\n",
              "      <td>Kind of drawn in by the erotic scenes, only to...</td>\n",
              "      <td>negative</td>\n",
              "    </tr>\n",
              "    <tr>\n",
              "      <th>9</th>\n",
              "      <td>17</td>\n",
              "      <td>This movie made it into one of my top 10 most ...</td>\n",
              "      <td>negative</td>\n",
              "    </tr>\n",
              "    <tr>\n",
              "      <th>10</th>\n",
              "      <td>18</td>\n",
              "      <td>I remember this film,it was the first film i h...</td>\n",
              "      <td>positive</td>\n",
              "    </tr>\n",
              "    <tr>\n",
              "      <th>11</th>\n",
              "      <td>19</td>\n",
              "      <td>An awful film! It must have been up against so...</td>\n",
              "      <td>negative</td>\n",
              "    </tr>\n",
              "    <tr>\n",
              "      <th>12</th>\n",
              "      <td>21</td>\n",
              "      <td>I had the terrible misfortune of having to vie...</td>\n",
              "      <td>negative</td>\n",
              "    </tr>\n",
              "    <tr>\n",
              "      <th>13</th>\n",
              "      <td>23</td>\n",
              "      <td>First of all, let's get a few things straight ...</td>\n",
              "      <td>negative</td>\n",
              "    </tr>\n",
              "    <tr>\n",
              "      <th>14</th>\n",
              "      <td>24</td>\n",
              "      <td>This was the worst movie I saw at WorldFest an...</td>\n",
              "      <td>negative</td>\n",
              "    </tr>\n",
              "    <tr>\n",
              "      <th>15</th>\n",
              "      <td>27</td>\n",
              "      <td>This film tried to be too many things all at o...</td>\n",
              "      <td>negative</td>\n",
              "    </tr>\n",
              "    <tr>\n",
              "      <th>16</th>\n",
              "      <td>28</td>\n",
              "      <td>This movie was so frustrating. Everything seem...</td>\n",
              "      <td>negative</td>\n",
              "    </tr>\n",
              "    <tr>\n",
              "      <th>17</th>\n",
              "      <td>29</td>\n",
              "      <td>'War movie' is a Hollywood genre that has been...</td>\n",
              "      <td>positive</td>\n",
              "    </tr>\n",
              "    <tr>\n",
              "      <th>18</th>\n",
              "      <td>32</td>\n",
              "      <td>My first exposure to the Templarios &amp; not a go...</td>\n",
              "      <td>negative</td>\n",
              "    </tr>\n",
              "    <tr>\n",
              "      <th>19</th>\n",
              "      <td>33</td>\n",
              "      <td>One of the most significant quotes from the en...</td>\n",
              "      <td>positive</td>\n",
              "    </tr>\n",
              "  </tbody>\n",
              "</table>\n",
              "</div>\n",
              "      <button class=\"colab-df-convert\" onclick=\"convertToInteractive('df-dbb8e457-3545-46f5-a0ef-7d1b32afd8c1')\"\n",
              "              title=\"Convert this dataframe to an interactive table.\"\n",
              "              style=\"display:none;\">\n",
              "        \n",
              "  <svg xmlns=\"http://www.w3.org/2000/svg\" height=\"24px\"viewBox=\"0 0 24 24\"\n",
              "       width=\"24px\">\n",
              "    <path d=\"M0 0h24v24H0V0z\" fill=\"none\"/>\n",
              "    <path d=\"M18.56 5.44l.94 2.06.94-2.06 2.06-.94-2.06-.94-.94-2.06-.94 2.06-2.06.94zm-11 1L8.5 8.5l.94-2.06 2.06-.94-2.06-.94L8.5 2.5l-.94 2.06-2.06.94zm10 10l.94 2.06.94-2.06 2.06-.94-2.06-.94-.94-2.06-.94 2.06-2.06.94z\"/><path d=\"M17.41 7.96l-1.37-1.37c-.4-.4-.92-.59-1.43-.59-.52 0-1.04.2-1.43.59L10.3 9.45l-7.72 7.72c-.78.78-.78 2.05 0 2.83L4 21.41c.39.39.9.59 1.41.59.51 0 1.02-.2 1.41-.59l7.78-7.78 2.81-2.81c.8-.78.8-2.07 0-2.86zM5.41 20L4 18.59l7.72-7.72 1.47 1.35L5.41 20z\"/>\n",
              "  </svg>\n",
              "      </button>\n",
              "      \n",
              "  <style>\n",
              "    .colab-df-container {\n",
              "      display:flex;\n",
              "      flex-wrap:wrap;\n",
              "      gap: 12px;\n",
              "    }\n",
              "\n",
              "    .colab-df-convert {\n",
              "      background-color: #E8F0FE;\n",
              "      border: none;\n",
              "      border-radius: 50%;\n",
              "      cursor: pointer;\n",
              "      display: none;\n",
              "      fill: #1967D2;\n",
              "      height: 32px;\n",
              "      padding: 0 0 0 0;\n",
              "      width: 32px;\n",
              "    }\n",
              "\n",
              "    .colab-df-convert:hover {\n",
              "      background-color: #E2EBFA;\n",
              "      box-shadow: 0px 1px 2px rgba(60, 64, 67, 0.3), 0px 1px 3px 1px rgba(60, 64, 67, 0.15);\n",
              "      fill: #174EA6;\n",
              "    }\n",
              "\n",
              "    [theme=dark] .colab-df-convert {\n",
              "      background-color: #3B4455;\n",
              "      fill: #D2E3FC;\n",
              "    }\n",
              "\n",
              "    [theme=dark] .colab-df-convert:hover {\n",
              "      background-color: #434B5C;\n",
              "      box-shadow: 0px 1px 3px 1px rgba(0, 0, 0, 0.15);\n",
              "      filter: drop-shadow(0px 1px 2px rgba(0, 0, 0, 0.3));\n",
              "      fill: #FFFFFF;\n",
              "    }\n",
              "  </style>\n",
              "\n",
              "      <script>\n",
              "        const buttonEl =\n",
              "          document.querySelector('#df-dbb8e457-3545-46f5-a0ef-7d1b32afd8c1 button.colab-df-convert');\n",
              "        buttonEl.style.display =\n",
              "          google.colab.kernel.accessAllowed ? 'block' : 'none';\n",
              "\n",
              "        async function convertToInteractive(key) {\n",
              "          const element = document.querySelector('#df-dbb8e457-3545-46f5-a0ef-7d1b32afd8c1');\n",
              "          const dataTable =\n",
              "            await google.colab.kernel.invokeFunction('convertToInteractive',\n",
              "                                                     [key], {});\n",
              "          if (!dataTable) return;\n",
              "\n",
              "          const docLinkHtml = 'Like what you see? Visit the ' +\n",
              "            '<a target=\"_blank\" href=https://colab.research.google.com/notebooks/data_table.ipynb>data table notebook</a>'\n",
              "            + ' to learn more about interactive tables.';\n",
              "          element.innerHTML = '';\n",
              "          dataTable['output_type'] = 'display_data';\n",
              "          await google.colab.output.renderOutput(dataTable, element);\n",
              "          const docLink = document.createElement('div');\n",
              "          docLink.innerHTML = docLinkHtml;\n",
              "          element.appendChild(docLink);\n",
              "        }\n",
              "      </script>\n",
              "    </div>\n",
              "  </div>\n",
              "  "
            ],
            "text/plain": [
              "    review_id                                             review sentiment\n",
              "0           2  I thought this was a wonderful way to spend ti...  positive\n",
              "1           3  Basically there's a family where a little boy ...  negative\n",
              "2           7  This show was an amazing, fresh & innovative i...  negative\n",
              "3           8  Encouraged by the positive comments about this...  negative\n",
              "4          10  Phil the Alien is one of those quirky films wh...  negative\n",
              "5          11  I saw this movie when I was about 12 when it c...  negative\n",
              "6          12  So im not a big fan of Boll's work but then ag...  negative\n",
              "7          13  The cast played Shakespeare.<br /><br />Shakes...  negative\n",
              "8          15  Kind of drawn in by the erotic scenes, only to...  negative\n",
              "9          17  This movie made it into one of my top 10 most ...  negative\n",
              "10         18  I remember this film,it was the first film i h...  positive\n",
              "11         19  An awful film! It must have been up against so...  negative\n",
              "12         21  I had the terrible misfortune of having to vie...  negative\n",
              "13         23  First of all, let's get a few things straight ...  negative\n",
              "14         24  This was the worst movie I saw at WorldFest an...  negative\n",
              "15         27  This film tried to be too many things all at o...  negative\n",
              "16         28  This movie was so frustrating. Everything seem...  negative\n",
              "17         29  'War movie' is a Hollywood genre that has been...  positive\n",
              "18         32  My first exposure to the Templarios & not a go...  negative\n",
              "19         33  One of the most significant quotes from the en...  positive"
            ]
          },
          "metadata": {},
          "execution_count": 9
        }
      ],
      "source": [
        "# Check first 20 records of df_train\n",
        "df_train.head(20)"
      ]
    },
    {
      "cell_type": "code",
      "execution_count": null,
      "metadata": {
        "colab": {
          "base_uri": "https://localhost:8080/",
          "height": 677
        },
        "id": "W2nThOa1BFvO",
        "outputId": "43b39e83-2f6d-4beb-f352-86ec88798e39"
      },
      "outputs": [
        {
          "output_type": "execute_result",
          "data": {
            "text/html": [
              "\n",
              "  <div id=\"df-9fa31fff-a539-4636-8790-bc0c1c76e5c7\">\n",
              "    <div class=\"colab-df-container\">\n",
              "      <div>\n",
              "<style scoped>\n",
              "    .dataframe tbody tr th:only-of-type {\n",
              "        vertical-align: middle;\n",
              "    }\n",
              "\n",
              "    .dataframe tbody tr th {\n",
              "        vertical-align: top;\n",
              "    }\n",
              "\n",
              "    .dataframe thead th {\n",
              "        text-align: right;\n",
              "    }\n",
              "</style>\n",
              "<table border=\"1\" class=\"dataframe\">\n",
              "  <thead>\n",
              "    <tr style=\"text-align: right;\">\n",
              "      <th></th>\n",
              "      <th>review_id</th>\n",
              "      <th>review</th>\n",
              "      <th>sentiment</th>\n",
              "    </tr>\n",
              "  </thead>\n",
              "  <tbody>\n",
              "    <tr>\n",
              "      <th>0</th>\n",
              "      <td>T_0</td>\n",
              "      <td>I have to confess that I am severely disappoin...</td>\n",
              "      <td>negative</td>\n",
              "    </tr>\n",
              "    <tr>\n",
              "      <th>1</th>\n",
              "      <td>T_9</td>\n",
              "      <td>I have never understood the appeal of this sho...</td>\n",
              "      <td>negative</td>\n",
              "    </tr>\n",
              "    <tr>\n",
              "      <th>2</th>\n",
              "      <td>T_12</td>\n",
              "      <td>This is supposed to be based on Wilkie Collins...</td>\n",
              "      <td>negative</td>\n",
              "    </tr>\n",
              "    <tr>\n",
              "      <th>3</th>\n",
              "      <td>T_13</td>\n",
              "      <td>Of all the British imperialist movies like Fou...</td>\n",
              "      <td>positive</td>\n",
              "    </tr>\n",
              "    <tr>\n",
              "      <th>4</th>\n",
              "      <td>T_15</td>\n",
              "      <td>I loved this film. Not being a swooning Ed Woo...</td>\n",
              "      <td>positive</td>\n",
              "    </tr>\n",
              "    <tr>\n",
              "      <th>5</th>\n",
              "      <td>T_16</td>\n",
              "      <td>Having already seen the original \"Jack Frost\",...</td>\n",
              "      <td>negative</td>\n",
              "    </tr>\n",
              "    <tr>\n",
              "      <th>6</th>\n",
              "      <td>T_21</td>\n",
              "      <td>When the Romulans come, they will not be beari...</td>\n",
              "      <td>positive</td>\n",
              "    </tr>\n",
              "    <tr>\n",
              "      <th>7</th>\n",
              "      <td>T_24</td>\n",
              "      <td>I wasn't really interested in seeing Step Up, ...</td>\n",
              "      <td>negative</td>\n",
              "    </tr>\n",
              "    <tr>\n",
              "      <th>8</th>\n",
              "      <td>T_31</td>\n",
              "      <td>Over Christmas break, a group of college frien...</td>\n",
              "      <td>negative</td>\n",
              "    </tr>\n",
              "    <tr>\n",
              "      <th>9</th>\n",
              "      <td>T_34</td>\n",
              "      <td>The pilot is extremely well done. It lays out ...</td>\n",
              "      <td>positive</td>\n",
              "    </tr>\n",
              "    <tr>\n",
              "      <th>10</th>\n",
              "      <td>T_35</td>\n",
              "      <td>This miserable film is a remake of a 1927 film...</td>\n",
              "      <td>negative</td>\n",
              "    </tr>\n",
              "    <tr>\n",
              "      <th>11</th>\n",
              "      <td>T_36</td>\n",
              "      <td>I have to start off by apologizing because I t...</td>\n",
              "      <td>positive</td>\n",
              "    </tr>\n",
              "    <tr>\n",
              "      <th>12</th>\n",
              "      <td>T_43</td>\n",
              "      <td>Office work, especially in this era of compute...</td>\n",
              "      <td>negative</td>\n",
              "    </tr>\n",
              "    <tr>\n",
              "      <th>13</th>\n",
              "      <td>T_44</td>\n",
              "      <td>This film was not only one of John Ford's own ...</td>\n",
              "      <td>positive</td>\n",
              "    </tr>\n",
              "    <tr>\n",
              "      <th>14</th>\n",
              "      <td>T_47</td>\n",
              "      <td>Andy Lau and Lau Ching-Wan are both superb in ...</td>\n",
              "      <td>positive</td>\n",
              "    </tr>\n",
              "    <tr>\n",
              "      <th>15</th>\n",
              "      <td>T_48</td>\n",
              "      <td>It Could Have Been A Marvelous Story Based On ...</td>\n",
              "      <td>negative</td>\n",
              "    </tr>\n",
              "    <tr>\n",
              "      <th>16</th>\n",
              "      <td>T_50</td>\n",
              "      <td>Fast-paced, funny, sexy, and spectacular. Cagn...</td>\n",
              "      <td>positive</td>\n",
              "    </tr>\n",
              "    <tr>\n",
              "      <th>17</th>\n",
              "      <td>T_51</td>\n",
              "      <td>as an actor I really like independent films bu...</td>\n",
              "      <td>negative</td>\n",
              "    </tr>\n",
              "    <tr>\n",
              "      <th>18</th>\n",
              "      <td>T_57</td>\n",
              "      <td>I admit I had some trepidation when I first sa...</td>\n",
              "      <td>positive</td>\n",
              "    </tr>\n",
              "    <tr>\n",
              "      <th>19</th>\n",
              "      <td>T_59</td>\n",
              "      <td>This film is just a shame. Orlando, Florida se...</td>\n",
              "      <td>negative</td>\n",
              "    </tr>\n",
              "  </tbody>\n",
              "</table>\n",
              "</div>\n",
              "      <button class=\"colab-df-convert\" onclick=\"convertToInteractive('df-9fa31fff-a539-4636-8790-bc0c1c76e5c7')\"\n",
              "              title=\"Convert this dataframe to an interactive table.\"\n",
              "              style=\"display:none;\">\n",
              "        \n",
              "  <svg xmlns=\"http://www.w3.org/2000/svg\" height=\"24px\"viewBox=\"0 0 24 24\"\n",
              "       width=\"24px\">\n",
              "    <path d=\"M0 0h24v24H0V0z\" fill=\"none\"/>\n",
              "    <path d=\"M18.56 5.44l.94 2.06.94-2.06 2.06-.94-2.06-.94-.94-2.06-.94 2.06-2.06.94zm-11 1L8.5 8.5l.94-2.06 2.06-.94-2.06-.94L8.5 2.5l-.94 2.06-2.06.94zm10 10l.94 2.06.94-2.06 2.06-.94-2.06-.94-.94-2.06-.94 2.06-2.06.94z\"/><path d=\"M17.41 7.96l-1.37-1.37c-.4-.4-.92-.59-1.43-.59-.52 0-1.04.2-1.43.59L10.3 9.45l-7.72 7.72c-.78.78-.78 2.05 0 2.83L4 21.41c.39.39.9.59 1.41.59.51 0 1.02-.2 1.41-.59l7.78-7.78 2.81-2.81c.8-.78.8-2.07 0-2.86zM5.41 20L4 18.59l7.72-7.72 1.47 1.35L5.41 20z\"/>\n",
              "  </svg>\n",
              "      </button>\n",
              "      \n",
              "  <style>\n",
              "    .colab-df-container {\n",
              "      display:flex;\n",
              "      flex-wrap:wrap;\n",
              "      gap: 12px;\n",
              "    }\n",
              "\n",
              "    .colab-df-convert {\n",
              "      background-color: #E8F0FE;\n",
              "      border: none;\n",
              "      border-radius: 50%;\n",
              "      cursor: pointer;\n",
              "      display: none;\n",
              "      fill: #1967D2;\n",
              "      height: 32px;\n",
              "      padding: 0 0 0 0;\n",
              "      width: 32px;\n",
              "    }\n",
              "\n",
              "    .colab-df-convert:hover {\n",
              "      background-color: #E2EBFA;\n",
              "      box-shadow: 0px 1px 2px rgba(60, 64, 67, 0.3), 0px 1px 3px 1px rgba(60, 64, 67, 0.15);\n",
              "      fill: #174EA6;\n",
              "    }\n",
              "\n",
              "    [theme=dark] .colab-df-convert {\n",
              "      background-color: #3B4455;\n",
              "      fill: #D2E3FC;\n",
              "    }\n",
              "\n",
              "    [theme=dark] .colab-df-convert:hover {\n",
              "      background-color: #434B5C;\n",
              "      box-shadow: 0px 1px 3px 1px rgba(0, 0, 0, 0.15);\n",
              "      filter: drop-shadow(0px 1px 2px rgba(0, 0, 0, 0.3));\n",
              "      fill: #FFFFFF;\n",
              "    }\n",
              "  </style>\n",
              "\n",
              "      <script>\n",
              "        const buttonEl =\n",
              "          document.querySelector('#df-9fa31fff-a539-4636-8790-bc0c1c76e5c7 button.colab-df-convert');\n",
              "        buttonEl.style.display =\n",
              "          google.colab.kernel.accessAllowed ? 'block' : 'none';\n",
              "\n",
              "        async function convertToInteractive(key) {\n",
              "          const element = document.querySelector('#df-9fa31fff-a539-4636-8790-bc0c1c76e5c7');\n",
              "          const dataTable =\n",
              "            await google.colab.kernel.invokeFunction('convertToInteractive',\n",
              "                                                     [key], {});\n",
              "          if (!dataTable) return;\n",
              "\n",
              "          const docLinkHtml = 'Like what you see? Visit the ' +\n",
              "            '<a target=\"_blank\" href=https://colab.research.google.com/notebooks/data_table.ipynb>data table notebook</a>'\n",
              "            + ' to learn more about interactive tables.';\n",
              "          element.innerHTML = '';\n",
              "          dataTable['output_type'] = 'display_data';\n",
              "          await google.colab.output.renderOutput(dataTable, element);\n",
              "          const docLink = document.createElement('div');\n",
              "          docLink.innerHTML = docLinkHtml;\n",
              "          element.appendChild(docLink);\n",
              "        }\n",
              "      </script>\n",
              "    </div>\n",
              "  </div>\n",
              "  "
            ],
            "text/plain": [
              "   review_id                                             review sentiment\n",
              "0        T_0  I have to confess that I am severely disappoin...  negative\n",
              "1        T_9  I have never understood the appeal of this sho...  negative\n",
              "2       T_12  This is supposed to be based on Wilkie Collins...  negative\n",
              "3       T_13  Of all the British imperialist movies like Fou...  positive\n",
              "4       T_15  I loved this film. Not being a swooning Ed Woo...  positive\n",
              "5       T_16  Having already seen the original \"Jack Frost\",...  negative\n",
              "6       T_21  When the Romulans come, they will not be beari...  positive\n",
              "7       T_24  I wasn't really interested in seeing Step Up, ...  negative\n",
              "8       T_31  Over Christmas break, a group of college frien...  negative\n",
              "9       T_34  The pilot is extremely well done. It lays out ...  positive\n",
              "10      T_35  This miserable film is a remake of a 1927 film...  negative\n",
              "11      T_36  I have to start off by apologizing because I t...  positive\n",
              "12      T_43  Office work, especially in this era of compute...  negative\n",
              "13      T_44  This film was not only one of John Ford's own ...  positive\n",
              "14      T_47  Andy Lau and Lau Ching-Wan are both superb in ...  positive\n",
              "15      T_48  It Could Have Been A Marvelous Story Based On ...  negative\n",
              "16      T_50  Fast-paced, funny, sexy, and spectacular. Cagn...  positive\n",
              "17      T_51  as an actor I really like independent films bu...  negative\n",
              "18      T_57  I admit I had some trepidation when I first sa...  positive\n",
              "19      T_59  This film is just a shame. Orlando, Florida se...  negative"
            ]
          },
          "metadata": {},
          "execution_count": 10
        }
      ],
      "source": [
        "# Check first 20 records of test data\n",
        "df_test.head(20)"
      ]
    },
    {
      "cell_type": "code",
      "execution_count": null,
      "metadata": {
        "colab": {
          "base_uri": "https://localhost:8080/",
          "height": 296
        },
        "id": "_f16TJpHBOMv",
        "outputId": "7601189e-04bd-43df-e0c7-301716a9210f"
      },
      "outputs": [
        {
          "output_type": "execute_result",
          "data": {
            "text/plain": [
              "<matplotlib.axes._subplots.AxesSubplot at 0x7fed6a95cb50>"
            ]
          },
          "metadata": {},
          "execution_count": 11
        },
        {
          "output_type": "display_data",
          "data": {
            "image/png": "[encoded data removed]",
            "text/plain": [
              "<Figure size 432x288 with 1 Axes>"
            ]
          },
          "metadata": {
            "needs_background": "light"
          }
        }
      ],
      "source": [
        "# Visualise the Positive and negative counts in Train set\n",
        "sns.countplot(x='sentiment', data=df_train)"
      ]
    },
    {
      "cell_type": "code",
      "execution_count": null,
      "metadata": {
        "colab": {
          "base_uri": "https://localhost:8080/",
          "height": 296
        },
        "id": "3U1qvVP0CL2i",
        "outputId": "baefb9ec-2462-4614-9a5e-cf4d731f05f3"
      },
      "outputs": [
        {
          "output_type": "execute_result",
          "data": {
            "text/plain": [
              "<matplotlib.axes._subplots.AxesSubplot at 0x7fed6a82ced0>"
            ]
          },
          "metadata": {},
          "execution_count": 12
        },
        {
          "output_type": "display_data",
          "data": {
            "image/png": "[encoded data removed]",
            "text/plain": [
              "<Figure size 432x288 with 1 Axes>"
            ]
          },
          "metadata": {
            "needs_background": "light"
          }
        }
      ],
      "source": [
        "# Visualise the Positive and negative counts in Test set\n",
        "sns.countplot(x='sentiment', data=df_test)"
      ]
    },
    {
      "cell_type": "code",
      "execution_count": null,
      "metadata": {
        "id": "5BUTj4ORD63Z"
      },
      "outputs": [],
      "source": [
        "df_labelled_train = df_train.replace({'sentiment' : { 'positive' : 0, 'negative' : 1 }})\n",
        "df_labelled_test = df_test.replace({'sentiment' : { 'positive' : 0, 'negative' : 1 }})"
      ]
    },
    {
      "cell_type": "code",
      "execution_count": null,
      "metadata": {
        "colab": {
          "base_uri": "https://localhost:8080/",
          "height": 206
        },
        "id": "-GG5_r9AFoJ2",
        "outputId": "ab12e160-8cf5-490c-cc6d-eeb7369dfd7e"
      },
      "outputs": [
        {
          "output_type": "execute_result",
          "data": {
            "text/html": [
              "\n",
              "  <div id=\"df-1bd2ad67-fafe-4de1-943d-93452421818d\">\n",
              "    <div class=\"colab-df-container\">\n",
              "      <div>\n",
              "<style scoped>\n",
              "    .dataframe tbody tr th:only-of-type {\n",
              "        vertical-align: middle;\n",
              "    }\n",
              "\n",
              "    .dataframe tbody tr th {\n",
              "        vertical-align: top;\n",
              "    }\n",
              "\n",
              "    .dataframe thead th {\n",
              "        text-align: right;\n",
              "    }\n",
              "</style>\n",
              "<table border=\"1\" class=\"dataframe\">\n",
              "  <thead>\n",
              "    <tr style=\"text-align: right;\">\n",
              "      <th></th>\n",
              "      <th>review_id</th>\n",
              "      <th>review</th>\n",
              "      <th>sentiment</th>\n",
              "    </tr>\n",
              "  </thead>\n",
              "  <tbody>\n",
              "    <tr>\n",
              "      <th>0</th>\n",
              "      <td>2</td>\n",
              "      <td>I thought this was a wonderful way to spend ti...</td>\n",
              "      <td>0</td>\n",
              "    </tr>\n",
              "    <tr>\n",
              "      <th>1</th>\n",
              "      <td>3</td>\n",
              "      <td>Basically there's a family where a little boy ...</td>\n",
              "      <td>1</td>\n",
              "    </tr>\n",
              "    <tr>\n",
              "      <th>2</th>\n",
              "      <td>7</td>\n",
              "      <td>This show was an amazing, fresh &amp; innovative i...</td>\n",
              "      <td>1</td>\n",
              "    </tr>\n",
              "    <tr>\n",
              "      <th>3</th>\n",
              "      <td>8</td>\n",
              "      <td>Encouraged by the positive comments about this...</td>\n",
              "      <td>1</td>\n",
              "    </tr>\n",
              "    <tr>\n",
              "      <th>4</th>\n",
              "      <td>10</td>\n",
              "      <td>Phil the Alien is one of those quirky films wh...</td>\n",
              "      <td>1</td>\n",
              "    </tr>\n",
              "  </tbody>\n",
              "</table>\n",
              "</div>\n",
              "      <button class=\"colab-df-convert\" onclick=\"convertToInteractive('df-1bd2ad67-fafe-4de1-943d-93452421818d')\"\n",
              "              title=\"Convert this dataframe to an interactive table.\"\n",
              "              style=\"display:none;\">\n",
              "        \n",
              "  <svg xmlns=\"http://www.w3.org/2000/svg\" height=\"24px\"viewBox=\"0 0 24 24\"\n",
              "       width=\"24px\">\n",
              "    <path d=\"M0 0h24v24H0V0z\" fill=\"none\"/>\n",
              "    <path d=\"M18.56 5.44l.94 2.06.94-2.06 2.06-.94-2.06-.94-.94-2.06-.94 2.06-2.06.94zm-11 1L8.5 8.5l.94-2.06 2.06-.94-2.06-.94L8.5 2.5l-.94 2.06-2.06.94zm10 10l.94 2.06.94-2.06 2.06-.94-2.06-.94-.94-2.06-.94 2.06-2.06.94z\"/><path d=\"M17.41 7.96l-1.37-1.37c-.4-.4-.92-.59-1.43-.59-.52 0-1.04.2-1.43.59L10.3 9.45l-7.72 7.72c-.78.78-.78 2.05 0 2.83L4 21.41c.39.39.9.59 1.41.59.51 0 1.02-.2 1.41-.59l7.78-7.78 2.81-2.81c.8-.78.8-2.07 0-2.86zM5.41 20L4 18.59l7.72-7.72 1.47 1.35L5.41 20z\"/>\n",
              "  </svg>\n",
              "      </button>\n",
              "      \n",
              "  <style>\n",
              "    .colab-df-container {\n",
              "      display:flex;\n",
              "      flex-wrap:wrap;\n",
              "      gap: 12px;\n",
              "    }\n",
              "\n",
              "    .colab-df-convert {\n",
              "      background-color: #E8F0FE;\n",
              "      border: none;\n",
              "      border-radius: 50%;\n",
              "      cursor: pointer;\n",
              "      display: none;\n",
              "      fill: #1967D2;\n",
              "      height: 32px;\n",
              "      padding: 0 0 0 0;\n",
              "      width: 32px;\n",
              "    }\n",
              "\n",
              "    .colab-df-convert:hover {\n",
              "      background-color: #E2EBFA;\n",
              "      box-shadow: 0px 1px 2px rgba(60, 64, 67, 0.3), 0px 1px 3px 1px rgba(60, 64, 67, 0.15);\n",
              "      fill: #174EA6;\n",
              "    }\n",
              "\n",
              "    [theme=dark] .colab-df-convert {\n",
              "      background-color: #3B4455;\n",
              "      fill: #D2E3FC;\n",
              "    }\n",
              "\n",
              "    [theme=dark] .colab-df-convert:hover {\n",
              "      background-color: #434B5C;\n",
              "      box-shadow: 0px 1px 3px 1px rgba(0, 0, 0, 0.15);\n",
              "      filter: drop-shadow(0px 1px 2px rgba(0, 0, 0, 0.3));\n",
              "      fill: #FFFFFF;\n",
              "    }\n",
              "  </style>\n",
              "\n",
              "      <script>\n",
              "        const buttonEl =\n",
              "          document.querySelector('#df-1bd2ad67-fafe-4de1-943d-93452421818d button.colab-df-convert');\n",
              "        buttonEl.style.display =\n",
              "          google.colab.kernel.accessAllowed ? 'block' : 'none';\n",
              "\n",
              "        async function convertToInteractive(key) {\n",
              "          const element = document.querySelector('#df-1bd2ad67-fafe-4de1-943d-93452421818d');\n",
              "          const dataTable =\n",
              "            await google.colab.kernel.invokeFunction('convertToInteractive',\n",
              "                                                     [key], {});\n",
              "          if (!dataTable) return;\n",
              "\n",
              "          const docLinkHtml = 'Like what you see? Visit the ' +\n",
              "            '<a target=\"_blank\" href=https://colab.research.google.com/notebooks/data_table.ipynb>data table notebook</a>'\n",
              "            + ' to learn more about interactive tables.';\n",
              "          element.innerHTML = '';\n",
              "          dataTable['output_type'] = 'display_data';\n",
              "          await google.colab.output.renderOutput(dataTable, element);\n",
              "          const docLink = document.createElement('div');\n",
              "          docLink.innerHTML = docLinkHtml;\n",
              "          element.appendChild(docLink);\n",
              "        }\n",
              "      </script>\n",
              "    </div>\n",
              "  </div>\n",
              "  "
            ],
            "text/plain": [
              "   review_id                                             review  sentiment\n",
              "0          2  I thought this was a wonderful way to spend ti...          0\n",
              "1          3  Basically there's a family where a little boy ...          1\n",
              "2          7  This show was an amazing, fresh & innovative i...          1\n",
              "3          8  Encouraged by the positive comments about this...          1\n",
              "4         10  Phil the Alien is one of those quirky films wh...          1"
            ]
          },
          "metadata": {},
          "execution_count": 14
        }
      ],
      "source": [
        "df_labelled_train.head()"
      ]
    },
    {
      "cell_type": "code",
      "execution_count": null,
      "metadata": {
        "colab": {
          "base_uri": "https://localhost:8080/",
          "height": 206
        },
        "id": "yQsPBkDOFqKs",
        "outputId": "ea613d5b-a610-4064-d405-a84b97827b05"
      },
      "outputs": [
        {
          "output_type": "execute_result",
          "data": {
            "text/html": [
              "\n",
              "  <div id=\"df-ebe1e364-7d15-4dd5-a256-7cfd3b61f4bd\">\n",
              "    <div class=\"colab-df-container\">\n",
              "      <div>\n",
              "<style scoped>\n",
              "    .dataframe tbody tr th:only-of-type {\n",
              "        vertical-align: middle;\n",
              "    }\n",
              "\n",
              "    .dataframe tbody tr th {\n",
              "        vertical-align: top;\n",
              "    }\n",
              "\n",
              "    .dataframe thead th {\n",
              "        text-align: right;\n",
              "    }\n",
              "</style>\n",
              "<table border=\"1\" class=\"dataframe\">\n",
              "  <thead>\n",
              "    <tr style=\"text-align: right;\">\n",
              "      <th></th>\n",
              "      <th>review_id</th>\n",
              "      <th>review</th>\n",
              "      <th>sentiment</th>\n",
              "    </tr>\n",
              "  </thead>\n",
              "  <tbody>\n",
              "    <tr>\n",
              "      <th>0</th>\n",
              "      <td>T_0</td>\n",
              "      <td>I have to confess that I am severely disappoin...</td>\n",
              "      <td>1</td>\n",
              "    </tr>\n",
              "    <tr>\n",
              "      <th>1</th>\n",
              "      <td>T_9</td>\n",
              "      <td>I have never understood the appeal of this sho...</td>\n",
              "      <td>1</td>\n",
              "    </tr>\n",
              "    <tr>\n",
              "      <th>2</th>\n",
              "      <td>T_12</td>\n",
              "      <td>This is supposed to be based on Wilkie Collins...</td>\n",
              "      <td>1</td>\n",
              "    </tr>\n",
              "    <tr>\n",
              "      <th>3</th>\n",
              "      <td>T_13</td>\n",
              "      <td>Of all the British imperialist movies like Fou...</td>\n",
              "      <td>0</td>\n",
              "    </tr>\n",
              "    <tr>\n",
              "      <th>4</th>\n",
              "      <td>T_15</td>\n",
              "      <td>I loved this film. Not being a swooning Ed Woo...</td>\n",
              "      <td>0</td>\n",
              "    </tr>\n",
              "  </tbody>\n",
              "</table>\n",
              "</div>\n",
              "      <button class=\"colab-df-convert\" onclick=\"convertToInteractive('df-ebe1e364-7d15-4dd5-a256-7cfd3b61f4bd')\"\n",
              "              title=\"Convert this dataframe to an interactive table.\"\n",
              "              style=\"display:none;\">\n",
              "        \n",
              "  <svg xmlns=\"http://www.w3.org/2000/svg\" height=\"24px\"viewBox=\"0 0 24 24\"\n",
              "       width=\"24px\">\n",
              "    <path d=\"M0 0h24v24H0V0z\" fill=\"none\"/>\n",
              "    <path d=\"M18.56 5.44l.94 2.06.94-2.06 2.06-.94-2.06-.94-.94-2.06-.94 2.06-2.06.94zm-11 1L8.5 8.5l.94-2.06 2.06-.94-2.06-.94L8.5 2.5l-.94 2.06-2.06.94zm10 10l.94 2.06.94-2.06 2.06-.94-2.06-.94-.94-2.06-.94 2.06-2.06.94z\"/><path d=\"M17.41 7.96l-1.37-1.37c-.4-.4-.92-.59-1.43-.59-.52 0-1.04.2-1.43.59L10.3 9.45l-7.72 7.72c-.78.78-.78 2.05 0 2.83L4 21.41c.39.39.9.59 1.41.59.51 0 1.02-.2 1.41-.59l7.78-7.78 2.81-2.81c.8-.78.8-2.07 0-2.86zM5.41 20L4 18.59l7.72-7.72 1.47 1.35L5.41 20z\"/>\n",
              "  </svg>\n",
              "      </button>\n",
              "      \n",
              "  <style>\n",
              "    .colab-df-container {\n",
              "      display:flex;\n",
              "      flex-wrap:wrap;\n",
              "      gap: 12px;\n",
              "    }\n",
              "\n",
              "    .colab-df-convert {\n",
              "      background-color: #E8F0FE;\n",
              "      border: none;\n",
              "      border-radius: 50%;\n",
              "      cursor: pointer;\n",
              "      display: none;\n",
              "      fill: #1967D2;\n",
              "      height: 32px;\n",
              "      padding: 0 0 0 0;\n",
              "      width: 32px;\n",
              "    }\n",
              "\n",
              "    .colab-df-convert:hover {\n",
              "      background-color: #E2EBFA;\n",
              "      box-shadow: 0px 1px 2px rgba(60, 64, 67, 0.3), 0px 1px 3px 1px rgba(60, 64, 67, 0.15);\n",
              "      fill: #174EA6;\n",
              "    }\n",
              "\n",
              "    [theme=dark] .colab-df-convert {\n",
              "      background-color: #3B4455;\n",
              "      fill: #D2E3FC;\n",
              "    }\n",
              "\n",
              "    [theme=dark] .colab-df-convert:hover {\n",
              "      background-color: #434B5C;\n",
              "      box-shadow: 0px 1px 3px 1px rgba(0, 0, 0, 0.15);\n",
              "      filter: drop-shadow(0px 1px 2px rgba(0, 0, 0, 0.3));\n",
              "      fill: #FFFFFF;\n",
              "    }\n",
              "  </style>\n",
              "\n",
              "      <script>\n",
              "        const buttonEl =\n",
              "          document.querySelector('#df-ebe1e364-7d15-4dd5-a256-7cfd3b61f4bd button.colab-df-convert');\n",
              "        buttonEl.style.display =\n",
              "          google.colab.kernel.accessAllowed ? 'block' : 'none';\n",
              "\n",
              "        async function convertToInteractive(key) {\n",
              "          const element = document.querySelector('#df-ebe1e364-7d15-4dd5-a256-7cfd3b61f4bd');\n",
              "          const dataTable =\n",
              "            await google.colab.kernel.invokeFunction('convertToInteractive',\n",
              "                                                     [key], {});\n",
              "          if (!dataTable) return;\n",
              "\n",
              "          const docLinkHtml = 'Like what you see? Visit the ' +\n",
              "            '<a target=\"_blank\" href=https://colab.research.google.com/notebooks/data_table.ipynb>data table notebook</a>'\n",
              "            + ' to learn more about interactive tables.';\n",
              "          element.innerHTML = '';\n",
              "          dataTable['output_type'] = 'display_data';\n",
              "          await google.colab.output.renderOutput(dataTable, element);\n",
              "          const docLink = document.createElement('div');\n",
              "          docLink.innerHTML = docLinkHtml;\n",
              "          element.appendChild(docLink);\n",
              "        }\n",
              "      </script>\n",
              "    </div>\n",
              "  </div>\n",
              "  "
            ],
            "text/plain": [
              "  review_id                                             review  sentiment\n",
              "0       T_0  I have to confess that I am severely disappoin...          1\n",
              "1       T_9  I have never understood the appeal of this sho...          1\n",
              "2      T_12  This is supposed to be based on Wilkie Collins...          1\n",
              "3      T_13  Of all the British imperialist movies like Fou...          0\n",
              "4      T_15  I loved this film. Not being a swooning Ed Woo...          0"
            ]
          },
          "metadata": {},
          "execution_count": 15
        }
      ],
      "source": [
        "df_labelled_test.head()"
      ]
    },
    {
      "cell_type": "code",
      "execution_count": null,
      "metadata": {
        "id": "3VxirrKPFsux"
      },
      "outputs": [],
      "source": [
        "def preprocess_text(sen):\n",
        "  sentence = remove_tags(sen)\n",
        "  sentence = re.sub('[^a-zA-Z]', ' ', sentence)\n",
        "  sentence = re.sub(r\"\\s+[a-zA-Z]\\s+\", ' ', sentence)\n",
        "  sentence = re.sub(r'\\s+', ' ', sentence)\n",
        "  return sentence"
      ]
    },
    {
      "cell_type": "code",
      "execution_count": null,
      "metadata": {
        "id": "8kBi9iR9G3_m"
      },
      "outputs": [],
      "source": [
        "TAG_RE = re.compile(r'<[^>]+>')\n",
        "\n",
        "def remove_tags(text):\n",
        "    return TAG_RE.sub('', text)"
      ]
    },
    {
      "cell_type": "code",
      "execution_count": null,
      "metadata": {
        "id": "_7PH_-0bG6PE"
      },
      "outputs": [],
      "source": [
        "X = []\n",
        "sentences = list(df_labelled_train['review'])\n",
        "for sen in sentences:\n",
        "    X.append(preprocess_text(sen))"
      ]
    },
    {
      "cell_type": "code",
      "execution_count": null,
      "metadata": {
        "id": "aPh_AXWEG_6Y"
      },
      "outputs": [],
      "source": [
        "y = df_labelled_train['sentiment'].tolist()"
      ]
    },
    {
      "cell_type": "code",
      "execution_count": null,
      "metadata": {
        "id": "XL8YYS1bHGny"
      },
      "outputs": [],
      "source": [
        "from sklearn.model_selection import train_test_split\n",
        "X_train, X_test, y_train, y_test = train_test_split(X, y, test_size=0.20,random_state=12)"
      ]
    },
    {
      "cell_type": "code",
      "execution_count": null,
      "metadata": {
        "colab": {
          "base_uri": "https://localhost:8080/",
          "height": 174
        },
        "id": "VXco9t80TyN1",
        "outputId": "d8819abc-4322-47d5-f7de-0bd40ec2f6d9"
      },
      "outputs": [
        {
          "output_type": "execute_result",
          "data": {
            "application/vnd.google.colaboratory.intrinsic+json": {
              "type": "string"
            },
            "text/plain": [
              "'Ah yet another Seagal movie In no less than few mere months arrive to populate the video store shelves As bad as Submerged No But that is not saying much Like perfume on pig Seagal is professional thief who wants to quit but goes for one last job only to be double crossed by his boss He lands in Prison and is befriended by Gangster who helps him to break out and seek payback Its good to see Seagal finally not playing an agent cop or what he usually plays We actually get USA Location in Las Vegas it seems Then an eastern European territory as usual There is no wire Fu either here Don Fauntleroy does an okay job However most of the action and fight scenes with Stevie are clearly doubles Scenes from other movies lack of realism and logic in even tiniest situation Seagal and Treech make so so team inspiring unintentional laughs one minute Sighs the rest Several notable faces turn up to slum it sleepy Kevin Tighe is long way from his emergency days Nick Mancuso shows up in sleepwalking mode to take check No more rappers Please At this point the action scenes and plots are more predictable and recycled generically more than ever Its stale scene that Seagal needs to get out of or hang it up He should have gotten out while ago '"
            ]
          },
          "metadata": {},
          "execution_count": 21
        }
      ],
      "source": [
        "X_train[0]"
      ]
    },
    {
      "cell_type": "code",
      "execution_count": null,
      "metadata": {
        "id": "noE2CyGFHMdv"
      },
      "outputs": [],
      "source": [
        "tokenizer = Tokenizer()\n",
        "tokenizer.fit_on_texts(X_train)"
      ]
    },
    {
      "cell_type": "code",
      "execution_count": null,
      "metadata": {
        "id": "jU_IcuF-HUiX"
      },
      "outputs": [],
      "source": [
        "X_train_1 = tokenizer.texts_to_sequences(X_train)\n",
        "X_test_1 = tokenizer.texts_to_sequences(X_test)"
      ]
    },
    {
      "cell_type": "code",
      "execution_count": null,
      "metadata": {
        "id": "n-VhfBqEUjoh"
      },
      "outputs": [],
      "source": [
        "from keras.preprocessing import sequence\n",
        "# truncate and pad input sequences\n",
        "max_review_length = 100\n",
        "X_train_3 = sequence.pad_sequences(X_train_1, maxlen=max_review_length)\n",
        "X_test_3 = sequence.pad_sequences(X_test_1, maxlen=max_review_length)\n"
      ]
    },
    {
      "cell_type": "code",
      "execution_count": null,
      "metadata": {
        "id": "Hw_1Dl82Hzm1"
      },
      "outputs": [],
      "source": [
        "vectorizer = TfidfVectorizer(min_df=2, ngram_range=(1, 2), stop_words='english', max_features= 10000,strip_accents='unicode', norm='l2')\n",
        "X_train_2 = vectorizer.fit_transform(X_train).todense()\n",
        "X_test_2 = vectorizer.transform(X_test).todense()"
      ]
    },
    {
      "cell_type": "code",
      "execution_count": null,
      "metadata": {
        "colab": {
          "base_uri": "https://localhost:8080/"
        },
        "id": "p7XpaGsuIDiq",
        "outputId": "94610230-12a6-44a2-d759-d8ddcfa7fb11"
      },
      "outputs": [
        {
          "output_type": "stream",
          "name": "stdout",
          "text": [
            "XTrain Shape:(20804, 100)\n",
            "XTest Shape:(5201, 100)\n"
          ]
        }
      ],
      "source": [
        "print(\"XTrain Shape:{}\".format(X_train_3.shape))\n",
        "print(\"XTest Shape:{}\".format(X_test_3.shape))"
      ]
    },
    {
      "cell_type": "code",
      "execution_count": null,
      "metadata": {
        "colab": {
          "base_uri": "https://localhost:8080/"
        },
        "id": "2MtwepSsIEKa",
        "outputId": "72be43e8-4f5c-48f9-f069-2ab710285218"
      },
      "outputs": [
        {
          "output_type": "stream",
          "name": "stderr",
          "text": [
            "/usr/local/lib/python3.7/dist-packages/sklearn/utils/validation.py:590: FutureWarning: np.matrix usage is deprecated in 1.0 and will raise a TypeError in 1.2. Please convert to a numpy array with np.asarray. For more information see: https://numpy.org/doc/stable/reference/generated/numpy.matrix.html\n",
            "  FutureWarning,\n"
          ]
        },
        {
          "output_type": "stream",
          "name": "stdout",
          "text": [
            "0.8957892712939819\n"
          ]
        },
        {
          "output_type": "stream",
          "name": "stderr",
          "text": [
            "/usr/local/lib/python3.7/dist-packages/sklearn/utils/validation.py:590: FutureWarning: np.matrix usage is deprecated in 1.0 and will raise a TypeError in 1.2. Please convert to a numpy array with np.asarray. For more information see: https://numpy.org/doc/stable/reference/generated/numpy.matrix.html\n",
            "  FutureWarning,\n"
          ]
        }
      ],
      "source": [
        " #Logistic Regression based classification\n",
        "from sklearn.linear_model import LogisticRegression\n",
        "model = LogisticRegression()\n",
        "model.fit(X_train_2, y_train)\n",
        "score = model.score(X_test_2, y_test)\n",
        "print(score)"
      ]
    },
    {
      "cell_type": "code",
      "execution_count": null,
      "metadata": {
        "id": "cTwYRe4BPNgg"
      },
      "outputs": [],
      "source": [
        "X_test_main = []\n",
        "sentences = list(df_labelled_test['review'])\n",
        "for sen in sentences:\n",
        "    X_test_main.append(preprocess_text(sen))\n",
        "  \n",
        "y_test_main = df_labelled_test['sentiment'].tolist()\n",
        "\n",
        "X_test_main_1 = vectorizer.transform(X_test_main).todense()\n",
        "X_test_main_2 = tokenizer.texts_to_sequences(X_test_main)\n",
        "X_test_main_3 = sequence.pad_sequences(X_test_main_2, maxlen=max_review_length)"
      ]
    },
    {
      "cell_type": "code",
      "execution_count": null,
      "metadata": {
        "colab": {
          "base_uri": "https://localhost:8080/"
        },
        "id": "1FES39jKSAvA",
        "outputId": "1c28a568-3f81-4660-da70-d90648a8ac58"
      },
      "outputs": [
        {
          "output_type": "stream",
          "name": "stdout",
          "text": [
            "0.811\n"
          ]
        },
        {
          "output_type": "stream",
          "name": "stderr",
          "text": [
            "/usr/local/lib/python3.7/dist-packages/sklearn/utils/validation.py:590: FutureWarning: np.matrix usage is deprecated in 1.0 and will raise a TypeError in 1.2. Please convert to a numpy array with np.asarray. For more information see: https://numpy.org/doc/stable/reference/generated/numpy.matrix.html\n",
            "  FutureWarning,\n"
          ]
        }
      ],
      "source": [
        "score = model.score(X_test_main_1, y_test_main)\n",
        "print(score)"
      ]
    },
    {
      "cell_type": "code",
      "execution_count": null,
      "metadata": {
        "id": "hIgdmGZ4WOUd"
      },
      "outputs": [],
      "source": [
        "X_train_3  = np.array(X_train_3)\n",
        "X_test_3  = np.array(X_test_3)\n",
        "\n",
        "y_train  = np.array(y_train)\n",
        "y_test  = np.array(y_test)"
      ]
    },
    {
      "cell_type": "code",
      "source": [
        "def create_model():\n",
        "  top_words=100000\n",
        "  embedding_vector_length = 32\n",
        "  model = Sequential()\n",
        "  model.add(Embedding(top_words, embedding_vector_length, input_length=max_review_length))\n",
        "  model.add(Conv1D(filters=32, kernel_size=3, padding='same'))\n",
        "  model.add(LeakyReLU(alpha=0.001))\n",
        "  model.add(BatchNormalization())\n",
        "  # model.add(Conv1D(filters=128, kernel_size=3, padding='same'))\n",
        "  # model.add(LeakyReLU(alpha=0.001))\n",
        "  # model.add(BatchNormalization())\n",
        "  model.add(MaxPooling1D(pool_size=2,padding='same'))\n",
        "  model.add(Dropout(0.4))\n",
        "  model.add(Bidirectional(LSTM(128,)))  \n",
        "  model.add(BatchNormalization())\n",
        "  #model.add(Dropout(0.3))\n",
        "  model.add(Dense(256, activation='leaky_relu'))\n",
        "  model.add(Dense(64,activation='relu'))\n",
        "  model.add(Dropout(0.3))\n",
        "  model.add(Dense(10, activation='relu'))\n",
        "  model.add(Dense(1, activation='sigmoid'))\n",
        "  return model"
      ],
      "metadata": {
        "id": "ImMGP1fxCdyH"
      },
      "execution_count": null,
      "outputs": []
    },
    {
      "cell_type": "code",
      "source": [
        "wandb.init(project=\"fallabella_sentiment_classification\")"
      ],
      "metadata": {
        "colab": {
          "base_uri": "https://localhost:8080/",
          "height": 197,
          "referenced_widgets": [
            "3f4ea17da73c40f09938676f47a1dc22",
            "b6421ce354064e9586f56b765843ecc7",
            "161d7d44c0504d52aa83ad0a55b322da",
            "0644df8bc7f1473da0c3e755820de014",
            "67723a273c324c84957b26d88445cd5e",
            "7099eabd42ca446fa9ca923e390a1fed",
            "17115f9d03fa41c88ccbb2ec575ec282",
            "710375b00ad6416badb7bd8d6161c7af"
          ]
        },
        "id": "d3tHFC5cMT55",
        "outputId": "26a792e5-81aa-4122-d531-8ff1e121a182"
      },
      "execution_count": null,
      "outputs": [
        {
          "output_type": "display_data",
          "data": {
            "text/html": [
              "Finishing last run (ID:mbzsvisn) before initializing another..."
            ],
            "text/plain": [
              "<IPython.core.display.HTML object>"
            ]
          },
          "metadata": {}
        },
        {
          "output_type": "display_data",
          "data": {
            "text/html": [
              "<br/>Waiting for W&B process to finish, PID 2946... <strong style=\"color:green\">(success).</strong>"
            ],
            "text/plain": [
              "<IPython.core.display.HTML object>"
            ]
          },
          "metadata": {}
        },
        {
          "output_type": "display_data",
          "data": {
            "application/vnd.jupyter.widget-view+json": {
              "model_id": "3f4ea17da73c40f09938676f47a1dc22",
              "version_minor": 0,
              "version_major": 2
            },
            "text/plain": [
              "VBox(children=(Label(value=' 0.00MB of 0.00MB uploaded (0.00MB deduped)\\r'), FloatProgress(value=1.0, max=1.0)…"
            ]
          },
          "metadata": {}
        },
        {
          "output_type": "display_data",
          "data": {
            "text/html": [
              "<style>\n",
              "    table.wandb td:nth-child(1) { padding: 0 10px; text-align: right }\n",
              "    .wandb-row { display: flex; flex-direction: row; flex-wrap: wrap; width: 100% }\n",
              "    .wandb-col { display: flex; flex-direction: column; flex-basis: 100%; flex: 1; padding: 10px; }\n",
              "    </style>\n",
              "<div class=\"wandb-row\"><div class=\"wandb-col\">\n",
              "</div><div class=\"wandb-col\">\n",
              "</div></div>\n",
              "Synced 5 W&B file(s), 0 media file(s), 0 artifact file(s) and 0 other file(s)\n",
              "<br/>Synced <strong style=\"color:#cdcd00\">upbeat-pine-13</strong>: <a href=\"https://wandb.ai/udaygirish/fallabella_sentiment_classification/runs/mbzsvisn\" target=\"_blank\">https://wandb.ai/udaygirish/fallabella_sentiment_classification/runs/mbzsvisn</a><br/>\n",
              "Find logs at: <code>./wandb/run-20211226_102232-mbzsvisn/logs</code><br/>\n"
            ],
            "text/plain": [
              "<IPython.core.display.HTML object>"
            ]
          },
          "metadata": {}
        },
        {
          "output_type": "display_data",
          "data": {
            "text/html": [
              "Successfully finished last run (ID:mbzsvisn). Initializing new run:<br/>"
            ],
            "text/plain": [
              "<IPython.core.display.HTML object>"
            ]
          },
          "metadata": {}
        },
        {
          "output_type": "display_data",
          "data": {
            "text/html": [
              "\n",
              "                    Syncing run <strong><a href=\"https://wandb.ai/udaygirish/fallabella_sentiment_classification/runs/cmlz53lv\" target=\"_blank\">hardy-darkness-14</a></strong> to <a href=\"https://wandb.ai/udaygirish/fallabella_sentiment_classification\" target=\"_blank\">Weights & Biases</a> (<a href=\"https://docs.wandb.com/integrations/jupyter.html\" target=\"_blank\">docs</a>).<br/>\n",
              "\n",
              "                "
            ],
            "text/plain": [
              "<IPython.core.display.HTML object>"
            ]
          },
          "metadata": {}
        },
        {
          "output_type": "execute_result",
          "data": {
            "text/plain": [
              "<wandb.sdk.wandb_run.Run at 0x7fed608d4f10>"
            ],
            "text/html": [
              "<button onClick=\"this.nextSibling.style.display='block';this.style.display='none';\">Display W&B run</button><iframe src=\"https://wandb.ai/udaygirish/fallabella_sentiment_classification/runs/cmlz53lv?jupyter=true\" style=\"border:none;width:100%;height:420px;display:none;\"></iframe>"
            ]
          },
          "metadata": {},
          "execution_count": 32
        }
      ]
    },
    {
      "cell_type": "code",
      "execution_count": null,
      "metadata": {
        "colab": {
          "base_uri": "https://localhost:8080/"
        },
        "id": "c0wKX5PUSoIG",
        "outputId": "83e694ca-eafc-4886-fb9f-c688809d0413"
      },
      "outputs": [
        {
          "output_type": "stream",
          "name": "stderr",
          "text": [
            "/usr/local/lib/python3.7/dist-packages/keras/optimizer_v2/adam.py:105: UserWarning: The `lr` argument is deprecated, use `learning_rate` instead.\n",
            "  super(Adam, self).__init__(name, **kwargs)\n"
          ]
        },
        {
          "output_type": "stream",
          "name": "stdout",
          "text": [
            "Model: \"sequential_2\"\n",
            "_________________________________________________________________\n",
            " Layer (type)                Output Shape              Param #   \n",
            "=================================================================\n",
            " embedding_2 (Embedding)     (None, 100, 32)           3200000   \n",
            "                                                                 \n",
            " conv1d_2 (Conv1D)           (None, 100, 32)           3104      \n",
            "                                                                 \n",
            " leaky_re_lu_2 (LeakyReLU)   (None, 100, 32)           0         \n",
            "                                                                 \n",
            " batch_normalization_4 (Batc  (None, 100, 32)          128       \n",
            " hNormalization)                                                 \n",
            "                                                                 \n",
            " max_pooling1d_2 (MaxPooling  (None, 50, 32)           0         \n",
            " 1D)                                                             \n",
            "                                                                 \n",
            " dropout_4 (Dropout)         (None, 50, 32)            0         \n",
            "                                                                 \n",
            " bidirectional_2 (Bidirectio  (None, 256)              164864    \n",
            " nal)                                                            \n",
            "                                                                 \n",
            " batch_normalization_5 (Batc  (None, 256)              1024      \n",
            " hNormalization)                                                 \n",
            "                                                                 \n",
            " dense_8 (Dense)             (None, 256)               65792     \n",
            "                                                                 \n",
            " dense_9 (Dense)             (None, 64)                16448     \n",
            "                                                                 \n",
            " dropout_5 (Dropout)         (None, 64)                0         \n",
            "                                                                 \n",
            " dense_10 (Dense)            (None, 10)                650       \n",
            "                                                                 \n",
            " dense_11 (Dense)            (None, 1)                 11        \n",
            "                                                                 \n",
            "=================================================================\n",
            "Total params: 3,452,021\n",
            "Trainable params: 3,451,445\n",
            "Non-trainable params: 576\n",
            "_________________________________________________________________\n",
            "None\n",
            "Epoch 1/30\n",
            "161/163 [============================>.] - ETA: 0s - loss: 0.5778 - accuracy: 0.7376 - f1_m: 0.8426 - precision_m: 0.7694 - recall_m: 0.9398\n",
            "Epoch 00001: val_precision_m improved from -inf to 0.77083, saving model to weights_best_cnn3_new_2CNN_final.hdf5\n",
            "163/163 [==============================] - 9s 22ms/step - loss: 0.5772 - accuracy: 0.7380 - f1_m: 0.8431 - precision_m: 0.7696 - recall_m: 0.9404 - val_loss: 0.6322 - val_accuracy: 0.7704 - val_f1_m: 0.8700 - val_precision_m: 0.7708 - val_recall_m: 1.0000\n",
            "Epoch 2/30\n",
            "161/163 [============================>.] - ETA: 0s - loss: 0.5186 - accuracy: 0.7702 - f1_m: 0.8688 - precision_m: 0.7729 - recall_m: 0.9933\n",
            "Epoch 00002: val_precision_m did not improve from 0.77083\n",
            "163/163 [==============================] - 3s 16ms/step - loss: 0.5185 - accuracy: 0.7700 - f1_m: 0.8687 - precision_m: 0.7729 - recall_m: 0.9931 - val_loss: 0.5572 - val_accuracy: 0.7704 - val_f1_m: 0.8700 - val_precision_m: 0.7708 - val_recall_m: 1.0000\n",
            "Epoch 3/30\n",
            "160/163 [============================>.] - ETA: 0s - loss: 0.4385 - accuracy: 0.7937 - f1_m: 0.8755 - precision_m: 0.8164 - recall_m: 0.9466\n",
            "Epoch 00003: val_precision_m improved from 0.77083 to 0.77299, saving model to weights_best_cnn3_new_2CNN_final.hdf5\n",
            "163/163 [==============================] - 3s 16ms/step - loss: 0.4379 - accuracy: 0.7939 - f1_m: 0.8755 - precision_m: 0.8170 - recall_m: 0.9458 - val_loss: 0.4740 - val_accuracy: 0.7733 - val_f1_m: 0.8714 - val_precision_m: 0.7730 - val_recall_m: 1.0000\n",
            "Epoch 4/30\n",
            "161/163 [============================>.] - ETA: 0s - loss: 0.3451 - accuracy: 0.8482 - f1_m: 0.9033 - precision_m: 0.8838 - recall_m: 0.9250\n",
            "Epoch 00004: val_precision_m improved from 0.77299 to 0.85945, saving model to weights_best_cnn3_new_2CNN_final.hdf5\n",
            "163/163 [==============================] - 3s 17ms/step - loss: 0.3444 - accuracy: 0.8485 - f1_m: 0.9035 - precision_m: 0.8843 - recall_m: 0.9250 - val_loss: 0.3582 - val_accuracy: 0.8450 - val_f1_m: 0.9046 - val_precision_m: 0.8595 - val_recall_m: 0.9557\n",
            "Epoch 5/30\n",
            "161/163 [============================>.] - ETA: 0s - loss: 0.2701 - accuracy: 0.8865 - f1_m: 0.9269 - precision_m: 0.9173 - recall_m: 0.9376\n",
            "Epoch 00005: val_precision_m improved from 0.85945 to 0.88612, saving model to weights_best_cnn3_new_2CNN_final.hdf5\n",
            "163/163 [==============================] - 3s 16ms/step - loss: 0.2701 - accuracy: 0.8867 - f1_m: 0.9269 - precision_m: 0.9171 - recall_m: 0.9380 - val_loss: 0.3389 - val_accuracy: 0.8537 - val_f1_m: 0.9072 - val_precision_m: 0.8861 - val_recall_m: 0.9304\n",
            "Epoch 6/30\n",
            "161/163 [============================>.] - ETA: 0s - loss: 0.2137 - accuracy: 0.9141 - f1_m: 0.9443 - precision_m: 0.9376 - recall_m: 0.9520\n",
            "Epoch 00006: val_precision_m improved from 0.88612 to 0.91634, saving model to weights_best_cnn3_new_2CNN_final.hdf5\n",
            "163/163 [==============================] - 2s 15ms/step - loss: 0.2139 - accuracy: 0.9140 - f1_m: 0.9443 - precision_m: 0.9376 - recall_m: 0.9519 - val_loss: 0.3419 - val_accuracy: 0.8535 - val_f1_m: 0.9034 - val_precision_m: 0.9163 - val_recall_m: 0.8918\n",
            "Epoch 7/30\n",
            "161/163 [============================>.] - ETA: 0s - loss: 0.1727 - accuracy: 0.9332 - f1_m: 0.9565 - precision_m: 0.9541 - recall_m: 0.9597\n",
            "Epoch 00007: val_precision_m improved from 0.91634 to 0.92240, saving model to weights_best_cnn3_new_2CNN_final.hdf5\n",
            "163/163 [==============================] - 2s 15ms/step - loss: 0.1729 - accuracy: 0.9331 - f1_m: 0.9564 - precision_m: 0.9539 - recall_m: 0.9597 - val_loss: 0.3677 - val_accuracy: 0.8500 - val_f1_m: 0.9000 - val_precision_m: 0.9224 - val_recall_m: 0.8798\n",
            "Epoch 8/30\n",
            "161/163 [============================>.] - ETA: 0s - loss: 0.1359 - accuracy: 0.9492 - f1_m: 0.9669 - precision_m: 0.9642 - recall_m: 0.9702\n",
            "Epoch 00008: val_precision_m improved from 0.92240 to 0.92685, saving model to weights_best_cnn3_new_2CNN_final.hdf5\n",
            "163/163 [==============================] - 2s 15ms/step - loss: 0.1357 - accuracy: 0.9492 - f1_m: 0.9670 - precision_m: 0.9644 - recall_m: 0.9701 - val_loss: 0.3997 - val_accuracy: 0.8508 - val_f1_m: 0.9001 - val_precision_m: 0.9268 - val_recall_m: 0.8759\n",
            "Epoch 9/30\n",
            "161/163 [============================>.] - ETA: 0s - loss: 0.1055 - accuracy: 0.9608 - f1_m: 0.9744 - precision_m: 0.9736 - recall_m: 0.9757\n",
            "Epoch 00009: val_precision_m improved from 0.92685 to 0.93060, saving model to weights_best_cnn3_new_2CNN_final.hdf5\n",
            "163/163 [==============================] - 2s 15ms/step - loss: 0.1057 - accuracy: 0.9608 - f1_m: 0.9745 - precision_m: 0.9735 - recall_m: 0.9758 - val_loss: 0.3937 - val_accuracy: 0.8500 - val_f1_m: 0.8992 - val_precision_m: 0.9306 - val_recall_m: 0.8707\n",
            "Epoch 10/30\n",
            "161/163 [============================>.] - ETA: 0s - loss: 0.0848 - accuracy: 0.9705 - f1_m: 0.9808 - precision_m: 0.9804 - recall_m: 0.9815\n",
            "Epoch 00010: val_precision_m did not improve from 0.93060\n",
            "163/163 [==============================] - 2s 15ms/step - loss: 0.0850 - accuracy: 0.9704 - f1_m: 0.9807 - precision_m: 0.9803 - recall_m: 0.9815 - val_loss: 0.4797 - val_accuracy: 0.8483 - val_f1_m: 0.8982 - val_precision_m: 0.9278 - val_recall_m: 0.8714\n",
            "Epoch 11/30\n",
            "161/163 [============================>.] - ETA: 0s - loss: 0.0648 - accuracy: 0.9773 - f1_m: 0.9852 - precision_m: 0.9846 - recall_m: 0.9860\n",
            "Epoch 00011: val_precision_m did not improve from 0.93060\n",
            "163/163 [==============================] - 2s 15ms/step - loss: 0.0649 - accuracy: 0.9772 - f1_m: 0.9851 - precision_m: 0.9846 - recall_m: 0.9859 - val_loss: 0.5093 - val_accuracy: 0.8570 - val_f1_m: 0.9051 - val_precision_m: 0.9234 - val_recall_m: 0.8886\n",
            "Epoch 12/30\n",
            "161/163 [============================>.] - ETA: 0s - loss: 0.0492 - accuracy: 0.9833 - f1_m: 0.9890 - precision_m: 0.9889 - recall_m: 0.9894\n",
            "Epoch 00012: val_precision_m did not improve from 0.93060\n",
            "163/163 [==============================] - 2s 15ms/step - loss: 0.0493 - accuracy: 0.9832 - f1_m: 0.9890 - precision_m: 0.9887 - recall_m: 0.9895 - val_loss: 0.5112 - val_accuracy: 0.8646 - val_f1_m: 0.9115 - val_precision_m: 0.9178 - val_recall_m: 0.9063\n",
            "Epoch 13/30\n",
            "161/163 [============================>.] - ETA: 0s - loss: 0.0416 - accuracy: 0.9854 - f1_m: 0.9905 - precision_m: 0.9895 - recall_m: 0.9917\n",
            "Epoch 00013: val_precision_m did not improve from 0.93060\n",
            "163/163 [==============================] - 2s 14ms/step - loss: 0.0417 - accuracy: 0.9853 - f1_m: 0.9904 - precision_m: 0.9894 - recall_m: 0.9916 - val_loss: 0.5430 - val_accuracy: 0.8633 - val_f1_m: 0.9109 - val_precision_m: 0.9141 - val_recall_m: 0.9087\n",
            "Epoch 14/30\n",
            "161/163 [============================>.] - ETA: 0s - loss: 0.0363 - accuracy: 0.9872 - f1_m: 0.9916 - precision_m: 0.9913 - recall_m: 0.9921\n",
            "Epoch 00014: val_precision_m improved from 0.93060 to 0.93999, saving model to weights_best_cnn3_new_2CNN_final.hdf5\n",
            "163/163 [==============================] - 3s 17ms/step - loss: 0.0361 - accuracy: 0.9873 - f1_m: 0.9917 - precision_m: 0.9913 - recall_m: 0.9922 - val_loss: 0.7239 - val_accuracy: 0.8329 - val_f1_m: 0.8849 - val_precision_m: 0.9400 - val_recall_m: 0.8369\n",
            "Epoch 15/30\n",
            "161/163 [============================>.] - ETA: 0s - loss: 0.0313 - accuracy: 0.9896 - f1_m: 0.9932 - precision_m: 0.9934 - recall_m: 0.9932\n",
            "Epoch 00015: val_precision_m did not improve from 0.93999\n",
            "163/163 [==============================] - 2s 15ms/step - loss: 0.0312 - accuracy: 0.9897 - f1_m: 0.9933 - precision_m: 0.9935 - recall_m: 0.9932 - val_loss: 0.5851 - val_accuracy: 0.8660 - val_f1_m: 0.9133 - val_precision_m: 0.9093 - val_recall_m: 0.9185\n",
            "Epoch 16/30\n",
            "161/163 [============================>.] - ETA: 0s - loss: 0.0278 - accuracy: 0.9905 - f1_m: 0.9939 - precision_m: 0.9941 - recall_m: 0.9937\n",
            "Epoch 00016: val_precision_m did not improve from 0.93999\n",
            "163/163 [==============================] - 2s 15ms/step - loss: 0.0279 - accuracy: 0.9905 - f1_m: 0.9938 - precision_m: 0.9940 - recall_m: 0.9938 - val_loss: 0.8076 - val_accuracy: 0.8375 - val_f1_m: 0.8893 - val_precision_m: 0.9340 - val_recall_m: 0.8495\n",
            "Epoch 17/30\n",
            "161/163 [============================>.] - ETA: 0s - loss: 0.0212 - accuracy: 0.9931 - f1_m: 0.9955 - precision_m: 0.9960 - recall_m: 0.9952\n",
            "Epoch 00017: val_precision_m did not improve from 0.93999\n",
            "163/163 [==============================] - 2s 14ms/step - loss: 0.0214 - accuracy: 0.9930 - f1_m: 0.9955 - precision_m: 0.9959 - recall_m: 0.9951 - val_loss: 0.7173 - val_accuracy: 0.8512 - val_f1_m: 0.9006 - val_precision_m: 0.9260 - val_recall_m: 0.8775\n",
            "Epoch 18/30\n",
            "161/163 [============================>.] - ETA: 0s - loss: 0.0176 - accuracy: 0.9936 - f1_m: 0.9958 - precision_m: 0.9956 - recall_m: 0.9960\n",
            "Epoch 00018: val_precision_m did not improve from 0.93999\n",
            "163/163 [==============================] - 2s 15ms/step - loss: 0.0179 - accuracy: 0.9936 - f1_m: 0.9958 - precision_m: 0.9955 - recall_m: 0.9961 - val_loss: 0.7060 - val_accuracy: 0.8608 - val_f1_m: 0.9092 - val_precision_m: 0.9135 - val_recall_m: 0.9060\n",
            "Epoch 19/30\n",
            "161/163 [============================>.] - ETA: 0s - loss: 0.0166 - accuracy: 0.9944 - f1_m: 0.9963 - precision_m: 0.9963 - recall_m: 0.9964\n",
            "Epoch 00019: val_precision_m did not improve from 0.93999\n",
            "163/163 [==============================] - 2s 15ms/step - loss: 0.0165 - accuracy: 0.9944 - f1_m: 0.9964 - precision_m: 0.9964 - recall_m: 0.9964 - val_loss: 0.7721 - val_accuracy: 0.8491 - val_f1_m: 0.8987 - val_precision_m: 0.9284 - val_recall_m: 0.8719\n",
            "Epoch 20/30\n",
            "161/163 [============================>.] - ETA: 0s - loss: 0.0153 - accuracy: 0.9944 - f1_m: 0.9963 - precision_m: 0.9965 - recall_m: 0.9962\n",
            "Epoch 00020: val_precision_m did not improve from 0.93999\n",
            "163/163 [==============================] - 2s 15ms/step - loss: 0.0152 - accuracy: 0.9944 - f1_m: 0.9964 - precision_m: 0.9966 - recall_m: 0.9962 - val_loss: 0.7642 - val_accuracy: 0.8589 - val_f1_m: 0.9068 - val_precision_m: 0.9221 - val_recall_m: 0.8929\n",
            "Epoch 21/30\n",
            "161/163 [============================>.] - ETA: 0s - loss: 0.0145 - accuracy: 0.9949 - f1_m: 0.9967 - precision_m: 0.9968 - recall_m: 0.9967\n",
            "Epoch 00021: val_precision_m did not improve from 0.93999\n",
            "163/163 [==============================] - 2s 15ms/step - loss: 0.0144 - accuracy: 0.9950 - f1_m: 0.9967 - precision_m: 0.9968 - recall_m: 0.9967 - val_loss: 0.7713 - val_accuracy: 0.8698 - val_f1_m: 0.9160 - val_precision_m: 0.9096 - val_recall_m: 0.9235\n",
            "Epoch 22/30\n",
            "161/163 [============================>.] - ETA: 0s - loss: 0.0104 - accuracy: 0.9968 - f1_m: 0.9979 - precision_m: 0.9978 - recall_m: 0.9980\n",
            "Epoch 00022: val_precision_m did not improve from 0.93999\n",
            "163/163 [==============================] - 2s 14ms/step - loss: 0.0104 - accuracy: 0.9968 - f1_m: 0.9979 - precision_m: 0.9979 - recall_m: 0.9980 - val_loss: 0.8836 - val_accuracy: 0.8583 - val_f1_m: 0.9059 - val_precision_m: 0.9243 - val_recall_m: 0.8893\n",
            "Epoch 23/30\n",
            "161/163 [============================>.] - ETA: 0s - loss: 0.0126 - accuracy: 0.9958 - f1_m: 0.9973 - precision_m: 0.9969 - recall_m: 0.9977\n",
            "Epoch 00023: val_precision_m did not improve from 0.93999\n",
            "163/163 [==============================] - 2s 15ms/step - loss: 0.0125 - accuracy: 0.9959 - f1_m: 0.9973 - precision_m: 0.9969 - recall_m: 0.9977 - val_loss: 0.7785 - val_accuracy: 0.8564 - val_f1_m: 0.9050 - val_precision_m: 0.9218 - val_recall_m: 0.8898\n",
            "Epoch 24/30\n",
            "161/163 [============================>.] - ETA: 0s - loss: 0.0078 - accuracy: 0.9971 - f1_m: 0.9981 - precision_m: 0.9981 - recall_m: 0.9982\n",
            "Epoch 00024: val_precision_m did not improve from 0.93999\n",
            "163/163 [==============================] - 2s 14ms/step - loss: 0.0078 - accuracy: 0.9971 - f1_m: 0.9981 - precision_m: 0.9980 - recall_m: 0.9983 - val_loss: 0.9092 - val_accuracy: 0.8529 - val_f1_m: 0.9016 - val_precision_m: 0.9279 - val_recall_m: 0.8778\n",
            "Epoch 25/30\n",
            "161/163 [============================>.] - ETA: 0s - loss: 0.0103 - accuracy: 0.9963 - f1_m: 0.9976 - precision_m: 0.9973 - recall_m: 0.9979\n",
            "Epoch 00025: val_precision_m did not improve from 0.93999\n",
            "163/163 [==============================] - 2s 15ms/step - loss: 0.0102 - accuracy: 0.9963 - f1_m: 0.9976 - precision_m: 0.9974 - recall_m: 0.9979 - val_loss: 0.9316 - val_accuracy: 0.8464 - val_f1_m: 0.8961 - val_precision_m: 0.9332 - val_recall_m: 0.8628\n",
            "Epoch 26/30\n",
            "161/163 [============================>.] - ETA: 0s - loss: 0.0084 - accuracy: 0.9973 - f1_m: 0.9982 - precision_m: 0.9983 - recall_m: 0.9982\n",
            "Epoch 00026: val_precision_m did not improve from 0.93999\n",
            "163/163 [==============================] - 2s 15ms/step - loss: 0.0087 - accuracy: 0.9973 - f1_m: 0.9981 - precision_m: 0.9980 - recall_m: 0.9983 - val_loss: 0.8401 - val_accuracy: 0.8650 - val_f1_m: 0.9123 - val_precision_m: 0.9125 - val_recall_m: 0.9132\n",
            "Epoch 27/30\n",
            "161/163 [============================>.] - ETA: 0s - loss: 0.0085 - accuracy: 0.9973 - f1_m: 0.9982 - precision_m: 0.9981 - recall_m: 0.9984\n",
            "Epoch 00027: val_precision_m did not improve from 0.93999\n",
            "163/163 [==============================] - 2s 15ms/step - loss: 0.0084 - accuracy: 0.9973 - f1_m: 0.9983 - precision_m: 0.9981 - recall_m: 0.9984 - val_loss: 0.8731 - val_accuracy: 0.8483 - val_f1_m: 0.8977 - val_precision_m: 0.9314 - val_recall_m: 0.8674\n",
            "Epoch 28/30\n",
            "161/163 [============================>.] - ETA: 0s - loss: 0.0075 - accuracy: 0.9971 - f1_m: 0.9981 - precision_m: 0.9979 - recall_m: 0.9984\n",
            "Epoch 00028: val_precision_m did not improve from 0.93999\n",
            "163/163 [==============================] - 2s 15ms/step - loss: 0.0076 - accuracy: 0.9971 - f1_m: 0.9981 - precision_m: 0.9979 - recall_m: 0.9983 - val_loss: 0.9336 - val_accuracy: 0.8677 - val_f1_m: 0.9158 - val_precision_m: 0.8971 - val_recall_m: 0.9361\n",
            "Epoch 29/30\n",
            "161/163 [============================>.] - ETA: 0s - loss: 0.0086 - accuracy: 0.9970 - f1_m: 0.9981 - precision_m: 0.9981 - recall_m: 0.9981\n",
            "Epoch 00029: val_precision_m did not improve from 0.93999\n",
            "163/163 [==============================] - 2s 15ms/step - loss: 0.0085 - accuracy: 0.9971 - f1_m: 0.9981 - precision_m: 0.9981 - recall_m: 0.9981 - val_loss: 0.9944 - val_accuracy: 0.8446 - val_f1_m: 0.8951 - val_precision_m: 0.9322 - val_recall_m: 0.8618\n",
            "Epoch 30/30\n",
            "161/163 [============================>.] - ETA: 0s - loss: 0.0074 - accuracy: 0.9976 - f1_m: 0.9984 - precision_m: 0.9984 - recall_m: 0.9986\n",
            "Epoch 00030: val_precision_m did not improve from 0.93999\n",
            "163/163 [==============================] - 2s 14ms/step - loss: 0.0073 - accuracy: 0.9976 - f1_m: 0.9985 - precision_m: 0.9984 - recall_m: 0.9986 - val_loss: 0.8740 - val_accuracy: 0.8673 - val_f1_m: 0.9138 - val_precision_m: 0.9133 - val_recall_m: 0.9153\n"
          ]
        }
      ],
      "source": [
        "\n",
        "# create the model\n",
        "# Model includes 1 Convolution 1 Dimensional layer for feature selection and one\n",
        "#max pool layer for feature refining and then the output will be passed to LSTM\n",
        "#layer which then outputs it to a dense layer  with relu for non linearity addition \n",
        "# and then to a dense layer with sigmoid for classification into positive and negative\n",
        "#sentiment classes\n",
        "\n",
        "model = create_model()\n",
        "#opt = keras.optimizers.Adagrad()\n",
        "adam = tf.keras.optimizers.Adam(lr=0.0001, decay=1e-6, clipnorm=1.)\n",
        "model.compile(loss='binary_crossentropy', optimizer= adam, metrics=['accuracy',f1_m, precision_m,recall_m])\n",
        "print(model.summary())\n",
        "filepath=\"weights_best_cnn3_new_2CNN_final.hdf5\"\n",
        "checkpoint = ModelCheckpoint(filepath, monitor='val_precision_m', verbose=1, save_best_only=True, mode='max',save_weights_only=True)\n",
        "callbacks_list = [checkpoint,WandbCallback()]\n",
        "H = model.fit(X_train_3, y_train, epochs=30, batch_size=128,verbose = 1,callbacks = callbacks_list,validation_data=(X_test_3,y_test))"
      ]
    },
    {
      "cell_type": "code",
      "execution_count": null,
      "metadata": {
        "id": "hHr4GJW2VwxL"
      },
      "outputs": [],
      "source": [
        "model = create_model()\n",
        "model_cnn = model.load_weights(\"weights_best_cnn3_new_2CNN_final.hdf5\")"
      ]
    },
    {
      "cell_type": "code",
      "source": [
        "y_pred = model.predict(np.array(X_test_main_3))"
      ],
      "metadata": {
        "id": "Ao-N6YS9B6JP"
      },
      "execution_count": null,
      "outputs": []
    },
    {
      "cell_type": "code",
      "source": [
        "y_pred_mod = [1 if i>0.5 else 0 for i in y_pred]"
      ],
      "metadata": {
        "id": "TpBP_5HYDeQz"
      },
      "execution_count": null,
      "outputs": []
    },
    {
      "cell_type": "code",
      "source": [
        "accuracy = accuracy_score(y_pred_mod, y_test_main)"
      ],
      "metadata": {
        "id": "CqMpwMMrDkwg"
      },
      "execution_count": null,
      "outputs": []
    },
    {
      "cell_type": "code",
      "source": [
        "print(accuracy)"
      ],
      "metadata": {
        "colab": {
          "base_uri": "https://localhost:8080/"
        },
        "id": "WgnEVotsM_3z",
        "outputId": "95677e59-fc19-42f2-c27b-8f1bb188c358"
      },
      "execution_count": null,
      "outputs": [
        {
          "output_type": "stream",
          "name": "stdout",
          "text": [
            "0.8325\n"
          ]
        }
      ]
    },
    {
      "cell_type": "code",
      "source": [
        "from sklearn.metrics import confusion_matrix, ConfusionMatrixDisplay"
      ],
      "metadata": {
        "id": "hV1KR_f4EGeX"
      },
      "execution_count": null,
      "outputs": []
    },
    {
      "cell_type": "code",
      "source": [
        "cm = confusion_matrix(y_test_main, y_pred_mod, labels=[0,1])\n",
        "disp = ConfusionMatrixDisplay(confusion_matrix=cm,display_labels=['positive','negative'])\n",
        "disp.plot()\n",
        "plt.show()"
      ],
      "metadata": {
        "id": "FUILm6YIEvUX",
        "colab": {
          "base_uri": "https://localhost:8080/",
          "height": 279
        },
        "outputId": "7f5bd15f-d503-41ce-bc06-6335c7b750d8"
      },
      "execution_count": null,
      "outputs": [
        {
          "output_type": "display_data",
          "data": {
            "image/png": "[encoded data removed]",
            "text/plain": [
              "<Figure size 432x288 with 2 Axes>"
            ]
          },
          "metadata": {
            "needs_background": "light"
          }
        }
      ]
    },
    {
      "cell_type": "code",
      "source": [
        "y_train_pred = model.predict(np.array(X_train_3))\n",
        "y_train_pred_mod = [1 if i>0.5 else 0 for i in y_train_pred]"
      ],
      "metadata": {
        "id": "2XoX6hIXHtAl"
      },
      "execution_count": null,
      "outputs": []
    },
    {
      "cell_type": "code",
      "source": [
        "accuracy = accuracy_score(y_train_pred_mod, y_train)\n",
        "print(accuracy)"
      ],
      "metadata": {
        "colab": {
          "base_uri": "https://localhost:8080/"
        },
        "id": "LLlF843MIxya",
        "outputId": "69f4e2f4-7c09-41ba-e90f-b2cde16eb24b"
      },
      "execution_count": null,
      "outputs": [
        {
          "output_type": "stream",
          "name": "stdout",
          "text": [
            "0.989713516631417\n"
          ]
        }
      ]
    },
    {
      "cell_type": "code",
      "source": [
        "cm = confusion_matrix(y_train, y_train_pred_mod, labels=[0,1])\n",
        "disp = ConfusionMatrixDisplay(confusion_matrix=cm,display_labels=['positive','negative'])\n",
        "disp.plot()\n",
        "plt.show()"
      ],
      "metadata": {
        "colab": {
          "base_uri": "https://localhost:8080/",
          "height": 279
        },
        "id": "a_9cLBFfSPfg",
        "outputId": "e2b09e9b-de68-4e4b-c486-3caf80fef380"
      },
      "execution_count": null,
      "outputs": [
        {
          "output_type": "display_data",
          "data": {
            "image/png": "[encoded data removed]",
            "text/plain": [
              "<Figure size 432x288 with 2 Axes>"
            ]
          },
          "metadata": {
            "needs_background": "light"
          }
        }
      ]
    },
    {
      "cell_type": "code",
      "source": [
        ""
      ],
      "metadata": {
        "id": "-VlIqbLHSY8e"
      },
      "execution_count": null,
      "outputs": []
    }
  ],
  "metadata": {
    "colab": {
      "collapsed_sections": [],
      "name": "Fallabella_Sentiment_Classification_Model.ipynb",
      "provenance": [],
      "machine_shape": "hm"
    },
    "kernelspec": {
      "display_name": "Python 3",
      "name": "python3"
    },
    "language_info": {
      "name": "python"
    },
    "accelerator": "GPU",
    "widgets": {
      "application/vnd.jupyter.widget-state+json": {
        "3f4ea17da73c40f09938676f47a1dc22": {
          "model_module": "@jupyter-widgets/controls",
          "model_name": "VBoxModel",
          "model_module_version": "1.5.0",
          "state": {
            "_view_name": "VBoxView",
            "_dom_classes": [],
            "_model_name": "VBoxModel",
            "_view_module": "@jupyter-widgets/controls",
            "_model_module_version": "1.5.0",
            "_view_count": null,
            "_view_module_version": "1.5.0",
            "box_style": "",
            "layout": "IPY_MODEL_b6421ce354064e9586f56b765843ecc7",
            "_model_module": "@jupyter-widgets/controls",
            "children": [
              "IPY_MODEL_161d7d44c0504d52aa83ad0a55b322da",
              "IPY_MODEL_0644df8bc7f1473da0c3e755820de014"
            ]
          }
        },
        "b6421ce354064e9586f56b765843ecc7": {
          "model_module": "@jupyter-widgets/base",
          "model_name": "LayoutModel",
          "model_module_version": "1.2.0",
          "state": {
            "_view_name": "LayoutView",
            "grid_template_rows": null,
            "right": null,
            "justify_content": null,
            "_view_module": "@jupyter-widgets/base",
            "overflow": null,
            "_model_module_version": "1.2.0",
            "_view_count": null,
            "flex_flow": null,
            "width": null,
            "min_width": null,
            "border": null,
            "align_items": null,
            "bottom": null,
            "_model_module": "@jupyter-widgets/base",
            "top": null,
            "grid_column": null,
            "overflow_y": null,
            "overflow_x": null,
            "grid_auto_flow": null,
            "grid_area": null,
            "grid_template_columns": null,
            "flex": null,
            "_model_name": "LayoutModel",
            "justify_items": null,
            "grid_row": null,
            "max_height": null,
            "align_content": null,
            "visibility": null,
            "align_self": null,
            "height": null,
            "min_height": null,
            "padding": null,
            "grid_auto_rows": null,
            "grid_gap": null,
            "max_width": null,
            "order": null,
            "_view_module_version": "1.2.0",
            "grid_template_areas": null,
            "object_position": null,
            "object_fit": null,
            "grid_auto_columns": null,
            "margin": null,
            "display": null,
            "left": null
          }
        },
        "161d7d44c0504d52aa83ad0a55b322da": {
          "model_module": "@jupyter-widgets/controls",
          "model_name": "LabelModel",
          "model_module_version": "1.5.0",
          "state": {
            "_view_name": "LabelView",
            "style": "IPY_MODEL_67723a273c324c84957b26d88445cd5e",
            "_dom_classes": [],
            "description": "",
            "_model_name": "LabelModel",
            "placeholder": "​",
            "_view_module": "@jupyter-widgets/controls",
            "_model_module_version": "1.5.0",
            "value": " 0.01MB of 0.01MB uploaded (0.00MB deduped)\r",
            "_view_count": null,
            "_view_module_version": "1.5.0",
            "description_tooltip": null,
            "_model_module": "@jupyter-widgets/controls",
            "layout": "IPY_MODEL_7099eabd42ca446fa9ca923e390a1fed"
          }
        },
        "0644df8bc7f1473da0c3e755820de014": {
          "model_module": "@jupyter-widgets/controls",
          "model_name": "FloatProgressModel",
          "model_module_version": "1.5.0",
          "state": {
            "_view_name": "ProgressView",
            "style": "IPY_MODEL_17115f9d03fa41c88ccbb2ec575ec282",
            "_dom_classes": [],
            "description": "",
            "_model_name": "FloatProgressModel",
            "bar_style": "",
            "max": 1,
            "_view_module": "@jupyter-widgets/controls",
            "_model_module_version": "1.5.0",
            "value": 1,
            "_view_count": null,
            "_view_module_version": "1.5.0",
            "orientation": "horizontal",
            "min": 0,
            "description_tooltip": null,
            "_model_module": "@jupyter-widgets/controls",
            "layout": "IPY_MODEL_710375b00ad6416badb7bd8d6161c7af"
          }
        },
        "67723a273c324c84957b26d88445cd5e": {
          "model_module": "@jupyter-widgets/controls",
          "model_name": "DescriptionStyleModel",
          "model_module_version": "1.5.0",
          "state": {
            "_view_name": "StyleView",
            "_model_name": "DescriptionStyleModel",
            "description_width": "",
            "_view_module": "@jupyter-widgets/base",
            "_model_module_version": "1.5.0",
            "_view_count": null,
            "_view_module_version": "1.2.0",
            "_model_module": "@jupyter-widgets/controls"
          }
        },
        "7099eabd42ca446fa9ca923e390a1fed": {
          "model_module": "@jupyter-widgets/base",
          "model_name": "LayoutModel",
          "model_module_version": "1.2.0",
          "state": {
            "_view_name": "LayoutView",
            "grid_template_rows": null,
            "right": null,
            "justify_content": null,
            "_view_module": "@jupyter-widgets/base",
            "overflow": null,
            "_model_module_version": "1.2.0",
            "_view_count": null,
            "flex_flow": null,
            "width": null,
            "min_width": null,
            "border": null,
            "align_items": null,
            "bottom": null,
            "_model_module": "@jupyter-widgets/base",
            "top": null,
            "grid_column": null,
            "overflow_y": null,
            "overflow_x": null,
            "grid_auto_flow": null,
            "grid_area": null,
            "grid_template_columns": null,
            "flex": null,
            "_model_name": "LayoutModel",
            "justify_items": null,
            "grid_row": null,
            "max_height": null,
            "align_content": null,
            "visibility": null,
            "align_self": null,
            "height": null,
            "min_height": null,
            "padding": null,
            "grid_auto_rows": null,
            "grid_gap": null,
            "max_width": null,
            "order": null,
            "_view_module_version": "1.2.0",
            "grid_template_areas": null,
            "object_position": null,
            "object_fit": null,
            "grid_auto_columns": null,
            "margin": null,
            "display": null,
            "left": null
          }
        },
        "17115f9d03fa41c88ccbb2ec575ec282": {
          "model_module": "@jupyter-widgets/controls",
          "model_name": "ProgressStyleModel",
          "model_module_version": "1.5.0",
          "state": {
            "_view_name": "StyleView",
            "_model_name": "ProgressStyleModel",
            "description_width": "",
            "_view_module": "@jupyter-widgets/base",
            "_model_module_version": "1.5.0",
            "_view_count": null,
            "_view_module_version": "1.2.0",
            "bar_color": null,
            "_model_module": "@jupyter-widgets/controls"
          }
        },
        "710375b00ad6416badb7bd8d6161c7af": {
          "model_module": "@jupyter-widgets/base",
          "model_name": "LayoutModel",
          "model_module_version": "1.2.0",
          "state": {
            "_view_name": "LayoutView",
            "grid_template_rows": null,
            "right": null,
            "justify_content": null,
            "_view_module": "@jupyter-widgets/base",
            "overflow": null,
            "_model_module_version": "1.2.0",
            "_view_count": null,
            "flex_flow": null,
            "width": null,
            "min_width": null,
            "border": null,
            "align_items": null,
            "bottom": null,
            "_model_module": "@jupyter-widgets/base",
            "top": null,
            "grid_column": null,
            "overflow_y": null,
            "overflow_x": null,
            "grid_auto_flow": null,
            "grid_area": null,
            "grid_template_columns": null,
            "flex": null,
            "_model_name": "LayoutModel",
            "justify_items": null,
            "grid_row": null,
            "max_height": null,
            "align_content": null,
            "visibility": null,
            "align_self": null,
            "height": null,
            "min_height": null,
            "padding": null,
            "grid_auto_rows": null,
            "grid_gap": null,
            "max_width": null,
            "order": null,
            "_view_module_version": "1.2.0",
            "grid_template_areas": null,
            "object_position": null,
            "object_fit": null,
            "grid_auto_columns": null,
            "margin": null,
            "display": null,
            "left": null
          }
        }
      }
    }
  },
  "nbformat": 4,
  "nbformat_minor": 0
}